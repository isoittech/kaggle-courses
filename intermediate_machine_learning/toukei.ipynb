{
 "cells": [
  {
   "cell_type": "markdown",
   "metadata": {},
   "source": [
    "# 統計初歩の初歩\n",
    "\n",
    "## 分散の概念を徹底解説\n",
    "\n",
    "このノートブックでは、統計学の基本概念である「分散」について詳しく解説する。初心者の方にもわかりやすいように、基礎から丁寧に説明していく。"
   ]
  },
  {
   "cell_type": "markdown",
   "metadata": {},
   "source": [
    "## 1. データのばらつきを理解する\n",
    "\n",
    "統計学では、データの特徴を理解するために様々な指標を使う。データの特徴は大きく分けて以下の2つの側面から捉えることができる：\n",
    "\n",
    "1. **中心傾向**：データの中心的な値（平均値、中央値、最頻値など）\n",
    "2. **散布度（ばらつき）**：データが中心からどれだけ散らばっているか\n",
    "\n",
    "「分散」は、このデータのばらつきを表す最も基本的な指標の一つだ。分散を理解するためには、まず「偏差」という概念を理解する必要がある。"
   ]
  },
  {
   "cell_type": "markdown",
   "metadata": {},
   "source": [
    "## 2. 偏差（へんさ）とは\n",
    "\n",
    "**偏差**とは、各データ値と平均値との差のことだ。\n",
    "\n",
    "数式で表すと：\n",
    "\n",
    "偏差 = データ値 - 平均値\n",
    "\n",
    "例えば、データ [2, 4, 6, 8, 10] の平均値は 6 だ。このとき、各データの偏差は：\n",
    "- 2の偏差 = 2 - 6 = -4\n",
    "- 4の偏差 = 4 - 6 = -2\n",
    "- 6の偏差 = 6 - 6 = 0\n",
    "- 8の偏差 = 8 - 6 = 2\n",
    "- 10の偏差 = 10 - 6 = 4\n",
    "\n",
    "偏差は、データが平均からどれだけ離れているかを示す。正の値は平均より大きいことを、負の値は平均より小さいことを意味する。"
   ]
  },
  {
   "cell_type": "code",
   "execution_count": null,
   "metadata": {},
   "outputs": [],
   "source": [
    "# Pythonで偏差を計算する例\n",
    "import numpy as np\n",
    "import matplotlib.pyplot as plt\n",
    "\n",
    "# サンプルデータ\n",
    "data = [2, 4, 6, 8, 10]\n",
    "\n",
    "# 平均値を計算\n",
    "mean = np.mean(data)\n",
    "print(f\"データ: {data}\")\n",
    "print(f\"平均値: {mean}\")\n",
    "\n",
    "# 各データの偏差を計算\n",
    "deviations = [x - mean for x in data]\n",
    "print(f\"偏差: {deviations}\")\n",
    "\n",
    "# 偏差の合計を確認\n",
    "print(f\"偏差の合計: {sum(deviations)}\")\n",
    "\n",
    "# 偏差を視覚化\n",
    "plt.figure(figsize=(10, 6))\n",
    "plt.axhline(y=mean, color='r', linestyle='-', label='平均値')\n",
    "plt.scatter(range(len(data)), data, color='blue', label='データ')\n",
    "\n",
    "# 偏差を矢印で表示\n",
    "for i, (d, dev) in enumerate(zip(data, deviations)):\n",
    "    plt.arrow(i, mean, 0, dev, head_width=0.1, head_length=0.2, fc='green', ec='green')\n",
    "    plt.text(i+0.1, (mean+d)/2, f\"{dev}\", fontsize=12)\n",
    "\n",
    "plt.title('データと偏差の視覚化')\n",
    "plt.xlabel('データのインデックス')\n",
    "plt.ylabel('値')\n",
    "plt.legend()\n",
    "plt.grid(True)\n",
    "plt.show()"
   ]
  },
  {
   "cell_type": "markdown",
   "metadata": {},
   "source": [
    "### 偏差の重要な性質\n",
    "\n",
    "偏差には重要な性質がある：**偏差の合計は常に0になる**\n",
    "\n",
    "これは、平均値の定義から導かれる性質だ。平均値は、データの総和をデータ数で割ったものなので、偏差の合計が0になるのは数学的に証明できる。\n",
    "\n",
    "この性質から、偏差の平均も0になる。そのため、偏差の平均をデータのばらつきの指標として使うことはできない。"
   ]
  },
  {
   "cell_type": "markdown",
   "metadata": {},
   "source": [
    "## 3. 分散（ぶんさん）とは\n",
    "\n",
    "**分散**は、偏差の二乗の平均値だ。\n",
    "\n",
    "数式で表すと：\n",
    "\n",
    "分散 = Σ(データ値 - 平均値)² ÷ データ数\n",
    "\n",
    "または、母集団と標本で区別すると：\n",
    "\n",
    "母分散 σ² = Σ(x - μ)² ÷ N  （母集団全体の分散）\n",
    "標本分散 s² = Σ(x - x̄)² ÷ n  （標本の分散）\n",
    "\n",
    "ここで：\n",
    "- x：各データ値\n",
    "- μ：母平均\n",
    "- x̄：標本平均\n",
    "- N：母集団のサイズ\n",
    "- n：標本のサイズ\n",
    "\n",
    "なぜ偏差を二乗するのだろうか？それには2つの理由がある：\n",
    "\n",
    "1. **正負の相殺を防ぐため**：偏差の合計は常に0になるため、そのままでは散布度の指標として使えない。二乗することで、すべての値が非負になる。\n",
    "2. **外れ値の影響を強調するため**：二乗することで、平均から大きく離れたデータの影響がより強く反映される。"
   ]
  },
  {
   "cell_type": "code",
   "execution_count": null,
   "metadata": {},
   "outputs": [],
   "source": [
    "# Pythonで分散を計算する例\n",
    "import numpy as np\n",
    "\n",
    "# サンプルデータ\n",
    "data = [2, 4, 6, 8, 10]\n",
    "\n",
    "# 平均値を計算\n",
    "mean = np.mean(data)\n",
    "print(f\"データ: {data}\")\n",
    "print(f\"平均値: {mean}\")\n",
    "\n",
    "# 各データの偏差を計算\n",
    "deviations = [x - mean for x in data]\n",
    "print(f\"偏差: {deviations}\")\n",
    "\n",
    "# 偏差の二乗を計算\n",
    "squared_deviations = [dev**2 for dev in deviations]\n",
    "print(f\"偏差の二乗: {squared_deviations}\")\n",
    "\n",
    "# 分散を計算（手動で）\n",
    "variance_manual = sum(squared_deviations) / len(data)\n",
    "print(f\"手動で計算した分散: {variance_manual}\")\n",
    "\n",
    "# NumPyを使って分散を計算\n",
    "variance_numpy = np.var(data)\n",
    "print(f\"NumPyで計算した分散: {variance_numpy}\")\n",
    "\n",
    "# 標本分散（不偏分散）を計算\n",
    "# 標本から母集団の分散を推定する場合、分母をn-1にする\n",
    "sample_variance = np.var(data, ddof=1)  # ddof=1 で不偏分散を計算\n",
    "print(f\"標本分散（不偏分散）: {sample_variance}\")"
   ]
  }
 ],
 "metadata": {
  "kernelspec": {
   "display_name": "Python 3",
   "language": "python",
   "name": "python3"
  },
  "language_info": {
   "codemirror_mode": {
    "name": "ipython",
    "version": 3
   },
   "file_extension": ".py",
   "mimetype": "text/x-python",
   "name": "python",
   "nbconvert_exporter": "python",
   "pygments_lexer": "ipython3",
   "version": "3.8.10"
  }
 },
 "nbformat": 4,
 "nbformat_minor": 4
}
