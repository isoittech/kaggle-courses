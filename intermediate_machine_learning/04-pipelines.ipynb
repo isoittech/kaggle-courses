{
    "cells": [
        {
            "cell_type": "markdown",
            "metadata": {},
            "source": [
                "**[中級機械学習 ホームページ](https://www.kaggle.com/learn/intermediate-machine-learning)**\n",
                "\n",
                "---\n"
            ]
        },
        {
            "cell_type": "markdown",
            "metadata": {},
            "source": [
                "この演習では、**パイプライン**を使用して機械学習コードの効率を向上させます。\n",
                "\n",
                "# セットアップ\n",
                "\n",
                "以下の質問はあなたの作業にフィードバックを与えます。次のセルを実行してフィードバックシステムをセットアップしてください。"
            ]
        },
        {
            "cell_type": "code",
            "execution_count": null,
            "metadata": {},
            "outputs": [],
            "source": [
                "# コードチェックのセットアップ\n",
                "from learntools.core import binder\n",
                "binder.bind(globals())\n",
                "from learntools.ml_intermediate.ex4 import *\n",
                "print(\"セットアップ完了\")"
            ]
        },
        {
            "cell_type": "markdown",
            "metadata": {},
            "source": [
                "あなたは [Kaggle Learn Users向け住宅価格競争](https://www.kaggle.com/c/home-data-for-ml-course) のデータを使って作業します。\n",
                "\n",
                "![Ames Housing dataset image](https://i.imgur.com/lTJVG4e.png)\n",
                "\n",
                "次のコードセルをそのまま実行すると、`X_train`、`X_valid`、`y_train`、`y_valid` にトレーニングセットとバリデーションセットが読み込まれます。テストセットは `X_test` に読み込まれます。"
            ]
        },
        {
            "cell_type": "code",
            "execution_count": null,
            "metadata": {},
            "outputs": [],
            "source": [
                "import pandas as pd\n",
                "from sklearn.model_selection import train_test_split\n",
                "\n",
                "# データの読み込み\n",
                "X_full = pd.read_csv('../input/train.csv', index_col='Id')\n",
                "X_test_full = pd.read_csv('../input/test.csv', index_col='Id')\n",
                "\n",
                "# 目的変数が欠損している行を削除し、予測変数と目的変数を分ける\n",
                "X_full.dropna(axis=0, subset=['SalePrice'], inplace=True)\n",
                "y = X_full.SalePrice\n",
                "X_full.drop(['SalePrice'], axis=1, inplace=True)\n",
                "\n",
                "# 訓練データからバリデーションセットを分離\n",
                "X_train_full, X_valid_full, y_train, y_valid = train_test_split(X_full, y, \n",
                "                                                                train_size=0.8, test_size=0.2,\n",
                "                                                                random_state=0)\n",
                "\n",
                "# 「カーディナリティ」とはカラム内のユニークな値の数を意味する\n",
                "# 比較的カーディナリティが低いカテゴリ変数カラムを選択（便宜的・恣意的）\n",
                "categorical_cols = [cname for cname in X_train_full.columns if\n",
                "                    X_train_full[cname].nunique() < 10 and \n",
                "                    X_train_full[cname].dtype == \"object\"]\n",
                "\n",
                "# 数値カラムを選択\n",
                "numerical_cols = [cname for cname in X_train_full.columns if \n",
                "                X_train_full[cname].dtype in ['int64', 'float64']]\n",
                "\n",
                "# 選択したカラムのみ残す\n",
                "my_cols = categorical_cols + numerical_cols\n",
                "X_train = X_train_full[my_cols].copy()\n",
                "X_valid = X_valid_full[my_cols].copy()\n",
                "X_test = X_test_full[my_cols].copy()"
            ]
        },
        {
            "cell_type": "code",
            "execution_count": null,
            "metadata": {},
            "outputs": [],
            "source": [
                "X_train.head()"
            ]
        },
        {
            "cell_type": "markdown",
            "metadata": {},
            "source": [
                "次のコードセルは、チュートリアルのコードを使ってデータの前処理とモデルの学習を行っています。このコードは変更せずに実行してください。"
            ]
        },
        {
            "cell_type": "code",
            "execution_count": null,
            "metadata": {},
            "outputs": [],
            "source": [
                "from sklearn.compose import ColumnTransformer\n",
                "from sklearn.pipeline import Pipeline\n",
                "from sklearn.impute import SimpleImputer\n",
                "from sklearn.preprocessing import OneHotEncoder\n",
                "from sklearn.ensemble import RandomForestRegressor\n",
                "from sklearn.metrics import mean_absolute_error\n",
                "\n",
                "# 数値データの前処理\n",
                "numerical_transformer = SimpleImputer(strategy='constant')\n",
                "\n",
                "# カテゴリーデータの前処理\n",
                "categorical_transformer = Pipeline(steps=[\n",
                "    ('imputer', SimpleImputer(strategy='most_frequent')),\n",
                "    ('onehot', OneHotEncoder(handle_unknown='ignore'))\n",
                "])\n",
                "\n",
                "# 数値・カテゴリデータの前処理をまとめる\n",
                "preprocessor = ColumnTransformer(\n",
                "    transformers=[\n",
                "        ('num', numerical_transformer, numerical_cols),\n",
                "        ('cat', categorical_transformer, categorical_cols)\n",
                "    ])\n",
                "\n",
                "# モデルの定義\n",
                "model = RandomForestRegressor(n_estimators=100, random_state=0)\n",
                "\n",
                "# 前処理・モデルコードをパイプラインでまとめる\n",
                "clf = Pipeline(steps=[('preprocessor', preprocessor),\n",
                "                      ('model', model)\n",
                "                     ])\n",
                "\n",
                "# 訓練データの前処理およびモデル学習\n",
                "clf.fit(X_train, y_train)\n",
                "\n",
                "# バリデーションデータの前処理と予測\n",
                "preds = clf.predict(X_valid)\n",
                "\n",
                "print('MAE:', mean_absolute_error(y_valid, preds))"
            ]
        },
        {
            "cell_type": "markdown",
            "metadata": {},
            "source": [
                "このコードでは平均絶対誤差（MAE）は約17862となります。次のステップでは、より良くなるようにコードを修正します。\n",
                "\n",
                "# ステップ1: パフォーマンスの向上\n",
                "\n",
                "### パートA\n",
                "\n",
                "今度はあなたの番です！下のコードセルで自分自身の前処理手順とランダムフォレストモデルを定義してください。次の変数について値を埋めてください。\n",
                "- `numerical_transformer`\n",
                "- `categorical_transformer`\n",
                "- `model`\n",
                "\n",
                "この演習を通過するには、有効な前処理ステップとランダムフォレストモデルを定義するだけでOKです。"
            ]
        },
        {
            "cell_type": "code",
            "execution_count": null,
            "metadata": {},
            "outputs": [],
            "source": [
                "# 数値データの前処理\n",
                "numerical_transformer = SimpleImputer(strategy='median') # ここにあなたのコード\n",
                "\n",
                "# カテゴリデータの前処理\n",
                "categorical_transformer = Pipeline(steps=[\n",
                "    ('imputer', SimpleImputer(strategy='constant')),\n",
                "    ('onehot', OneHotEncoder(handle_unknown='ignore'))\n",
                "]) # ここにあなたのコード\n",
                "\n",
                "# 数値・カテゴリデータの前処理をまとめる\n",
                "preprocessor = ColumnTransformer(\n",
                "    transformers=[\n",
                "        ('num', numerical_transformer, numerical_cols),\n",
                "        ('cat', categorical_transformer, categorical_cols)\n",
                "    ])\n",
                "\n",
                "# モデルの定義\n",
                "model = RandomForestRegressor(n_estimators=200, random_state=0) # ここにあなたのコード\n",
                "\n",
                "# 解答チェック\n",
                "step_1.a.check()"
            ]
        },
        {
            "cell_type": "code",
            "execution_count": null,
            "metadata": {},
            "outputs": [],
            "source": [
                "# 下の行でヒントや解答コードを見ることができます\n",
                "#step_1.a.hint()\n",
                "#step_1.a.solution()"
            ]
        },
        {
            "cell_type": "markdown",
            "metadata": {},
            "source": [
                "### パートB\n",
                "\n",
                "下のコードセルはそのまま実行してください。\n",
                "\n",
                "このステップに合格するには、**パートA** でMAEが上記のコードよりも低くなるパイプラインを構築する必要があります。ここではじっくりと、MAE をどこまで下げられるか、いろんなアプローチを試してみてください！（もし合格しなければ、パートAで前処理やモデルを変更してください。）"
            ]
        },
        {
            "cell_type": "code",
            "execution_count": null,
            "metadata": {},
            "outputs": [],
            "source": [
                "# 前処理とモデリングのコードをパイプラインでまとめる\n",
                "my_pipeline = Pipeline(steps=[('preprocessor', preprocessor),\n",
                "                              ('model', model)\n",
                "                             ])\n",
                "\n",
                "# 訓練データの前処理及びモデル学習\n",
                "my_pipeline.fit(X_train, y_train)\n",
                "\n",
                "# バリデーションデータの前処理と予測\n",
                "preds = my_pipeline.predict(X_valid)\n",
                "\n",
                "# モデルを評価\n",
                "score = mean_absolute_error(y_valid, preds)\n",
                "print('MAE:', score)\n",
                "\n",
                "# 解答チェック\n",
                "step_1.b.check()"
            ]
        },
        {
            "cell_type": "code",
            "execution_count": null,
            "metadata": {},
            "outputs": [],
            "source": [
                "# 下の行でヒントを見ることができます\n",
                "#step_1.b.hint()"
            ]
        },
        {
            "cell_type": "markdown",
            "metadata": {},
            "source": [
                "# ステップ2: テスト予測の作成\n",
                "\n",
                "次は、学習済みモデルを使ってテストデータで予測を作成します。"
            ]
        },
        {
            "cell_type": "code",
            "execution_count": null,
            "metadata": {},
            "outputs": [],
            "source": [
                "# テストデータの前処理および予測\n",
                "preds_test = my_pipeline.predict(X_test) # ここにあなたのコード\n",
                "\n",
                "# 解答チェック\n",
                "step_2.check()"
            ]
        },
        {
            "cell_type": "code",
            "execution_count": null,
            "metadata": {},
            "outputs": [],
            "source": [
                "# 下の行でヒントや解答コードを見ることができます\n",
                "#step_2.hint()\n",
                "#step_2.solution()"
            ]
        },
        {
            "cell_type": "markdown",
            "metadata": {},
            "source": [
                "次のコードセルを変更せずに実行して、結果をコンペに直接提出可能なCSVファイルとして保存しましょう。"
            ]
        },
        {
            "cell_type": "code",
            "execution_count": null,
            "metadata": {},
            "outputs": [],
            "source": [
                "# テスト予測をファイルに保存\n",
                "output = pd.DataFrame({'Id': X_test.index,\n",
                "                       'SalePrice': preds_test})\n",
                "output.to_csv('submission.csv', index=False)"
            ]
        },
        {
            "cell_type": "markdown",
            "metadata": {},
            "source": [
                "# ステップ3: 結果を提出しましょう\n",
                "\n",
                "ステップ2が正常に完了したら、リーダーボードへの提出準備が整いました！提出する場合は、必ず[このリンク](https://www.kaggle.com/c/home-data-for-ml-course)の **Join Competition** ボタンをクリックして既にコンペに参加しておいてください。\n",
                "- まず右上の青い **COMMIT** ボタンをクリックしてください。ポップアップウィンドウが表示されます。\n",
                "- コードの実行が完了後、ポップアップウィンドウ右上の青い **Open Version** ボタンをクリックします。これで同じページの閲覧モードになります。再びこれらの指示に戻るにはスクロールダウンしてください。\n",
                "- 画面左側の **Output** タブをクリックし、**Submit to Competition** ボタンを押してリーダーボードへ結果を提出します。\n",
                "- さらにスコア向上に取り組みたい場合は、画面右上の青色 **Edit** ボタンを選択してください。モデルを変更し、同じプロセスを繰り返せます。\n",
                "\n",
                "# 続きを学びましょう\n",
                "\n",
                "[**クロスバリデーション**](https://www.kaggle.com/alexisbcook/cross-validation) について学びましょう。これはモデルパフォーマンスをより正確に評価するための手法です！"
            ]
        },
        {
            "cell_type": "markdown",
            "metadata": {},
            "source": [
                "---\n",
                "**[中級機械学習 ホームページ](https://www.kaggle.com/learn/intermediate-machine-learning)**\n",
                "\n",
                "\n",
                "\n",
                "\n",
                "\n",
                "*質問やコメントがありますか？[Learning Discussion フォーラム](https://www.kaggle.com/learn-forum) で他の学習者とチャットしましょう。*"
            ]
        }
    ],
    "metadata": {
        "kernelspec": {
            "display_name": "Python 3",
            "language": "python",
            "name": "python3"
        },
        "language_info": {
            "codemirror_mode": {
                "name": "ipython",
                "version": 3
            },
            "file_extension": ".py",
            "mimetype": "text/x-python",
            "name": "python",
            "nbconvert_exporter": "python",
            "pygments_lexer": "ipython3",
            "version": "3.6.6"
        }
    },
    "nbformat": 4,
    "nbformat_minor": 4
}