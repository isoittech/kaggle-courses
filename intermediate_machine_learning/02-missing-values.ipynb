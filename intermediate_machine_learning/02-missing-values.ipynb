{
 "cells": [
  {
   "cell_type": "markdown",
   "metadata": {},
   "source": [
    "**[中級機械学習 ホームページ](https://www.kaggle.com/learn/intermediate-machine-learning)**\n",
    "\n",
    "---\n"
   ]
  },
  {
   "cell_type": "markdown",
   "metadata": {},
   "source": [
    "ここからは**欠損値**の扱いについて学んだ知識を実際に試す番だ。\n",
    "\n",
    "きっと大きな違いを実感できるはず。\n",
    "\n",
    "# セットアップ\n",
    "\n",
    "設問は作業内容にフィードバックを返す。\n",
    "下のセルを実行してフィードバックシステムをセットアップしよう。"
   ]
  },
  {
   "cell_type": "code",
   "execution_count": 25,
   "metadata": {},
   "outputs": [],
   "source": [
    "# # コードチェック用のセットアップ\n",
    "# # 採点システムを有効化するためのコード\n",
    "# # Set up code checking\n",
    "# from learntools.core import binder\n",
    "# binder.bind(globals())\n",
    "# from learntools.ml_intermediate.ex2 import *\n",
    "# print(\"Setup Complete\")"
   ]
  },
  {
   "cell_type": "markdown",
   "metadata": {},
   "source": [
    "この演習では、[Kaggle Learnユーザー向け住宅価格コンペティション](https://www.kaggle.com/c/home-data-for-ml-course)のデータを使う。\n",
    "\n",
    "![Ames Housing データセット画像](https://i.imgur.com/lTJVG4e.png)\n",
    "\n",
    "次のコードセルはそのまま実行しよう。\n",
    "`X_train`, `X_valid`, `y_train`, `y_valid` に訓練・検証データが、`X_test` にテストデータが読み込まれる。"
   ]
  },
  {
   "cell_type": "code",
   "execution_count": 26,
   "metadata": {},
   "outputs": [
    {
     "name": "stdout",
     "output_type": "stream",
     "text": [
      "test.csv  test.csv.gz  train.csv  train.csv.gz\n",
      "---------------\n"
     ]
    },
    {
     "name": "stdout",
     "output_type": "stream",
     "text": [
      "test.csv  test.csv.gz  train.csv  train.csv.gz\n"
     ]
    }
   ],
   "source": [
    "# --- データファイルの展開と確認 ---\n",
    "# !ls ./input/02-missing-values\n",
    "#   データディレクトリ内のファイル一覧を表示する。\n",
    "!ls ./input/02-missing-values \n",
    "# !echo \"---------------\"\n",
    "!echo \"---------------\"\n",
    "# !gzip -d -c ./input/02-missing-values/train.csv.gz > ./input/02-missing-values/train.csv\n",
    "#   train.csv.gz（圧縮ファイル）を解凍してtrain.csvを作成する。\n",
    "!gzip -d -c ./input/02-missing-values/train.csv.gz > ./input/02-missing-values/train.csv\n",
    "# !gzip -d -c ./input/02-missing-values/test.csv.gz > ./input/02-missing-values/test.csv\n",
    "#   test.csv.gz（圧縮ファイル）を解凍してtest.csvを作成する。\n",
    "!gzip -d -c ./input/02-missing-values/test.csv.gz > ./input/02-missing-values/test.csv\n",
    "# !ls ./input/02-missing-values\n",
    "#   再度ファイル一覧を表示し、解凍後のファイルが存在するか確認する。\n",
    "!ls ./input/02-missing-values \n"
   ]
  },
  {
   "cell_type": "code",
   "execution_count": 27,
   "metadata": {},
   "outputs": [],
   "source": [
    "# --- pandas, scikit-learnのインポート ---\n",
    "import pandas as pd  # データ操作・前処理のためのライブラリ\n",
    "from sklearn.model_selection import train_test_split  # データ分割用\n",
    "\n",
    "# --- データの読み込み ---\n",
    "# train.csv（訓練データ）とtest.csv（テストデータ）をpandasで読み込む。\n",
    "# index_col='Id' でId列をインデックスとして使う。\n",
    "X_full = pd.read_csv('./input/02-missing-values/train.csv', index_col='Id')\n",
    "X_test_full = pd.read_csv('./input/02-missing-values/test.csv', index_col='Id')\n",
    "\n",
    "# --- 目的変数（SalePrice）と説明変数の分離 ---\n",
    "# SalePrice（住宅価格）が欠損している行は分析対象外とする。\n",
    "X_full.dropna(axis=0, subset=['SalePrice'], inplace=True)\n",
    "# 目的変数（ターゲット）yにSalePriceを格納。\n",
    "y = X_full.SalePrice\n",
    "# 説明変数（特徴量）からSalePrice列を除外。\n",
    "X_full.drop(['SalePrice'], axis=1, inplace=True)\n",
    "\n",
    "# --- 数値データのみ抽出 ---\n",
    "# 機械学習の入門では、まずobject型（文字列など）を除外し、数値型のみで学習するのが簡単。\n",
    "X = X_full.select_dtypes(exclude=['object'])\n",
    "X_test = X_test_full.select_dtypes(exclude=['object'])\n",
    "\n",
    "# --- 訓練データと検証データへの分割 ---\n",
    "# train_test_splitで、訓練用（X_train, y_train）と検証用（X_valid, y_valid）に分ける。\n",
    "# train_size=0.8で8割を訓練、2割を検証に使う。\n",
    "# random_state=0で分割の再現性を確保。\n",
    "X_train, X_valid, y_train, y_valid = train_test_split(X, y, train_size=0.8, test_size=0.2,\n",
    "                                                      random_state=0)"
   ]
  },
  {
   "cell_type": "markdown",
   "metadata": {},
   "source": [
    "次のコードセルで、訓練データ（X_train）の先頭5行を表示しよう。\n",
    "\n",
    "pandasの .head() メソッドは、データフレームの最初の5行を簡単に確認できる便利な関数。\n",
    "データの中身やカラム名、値の型を把握するのに役立つ。"
   ]
  },
  {
   "cell_type": "code",
   "execution_count": 28,
   "metadata": {},
   "outputs": [
    {
     "data": {
      "text/html": [
       "<div>\n",
       "<style scoped>\n",
       "    .dataframe tbody tr th:only-of-type {\n",
       "        vertical-align: middle;\n",
       "    }\n",
       "\n",
       "    .dataframe tbody tr th {\n",
       "        vertical-align: top;\n",
       "    }\n",
       "\n",
       "    .dataframe thead th {\n",
       "        text-align: right;\n",
       "    }\n",
       "</style>\n",
       "<table border=\"1\" class=\"dataframe\">\n",
       "  <thead>\n",
       "    <tr style=\"text-align: right;\">\n",
       "      <th></th>\n",
       "      <th>MSSubClass</th>\n",
       "      <th>LotFrontage</th>\n",
       "      <th>LotArea</th>\n",
       "      <th>OverallQual</th>\n",
       "      <th>OverallCond</th>\n",
       "      <th>YearBuilt</th>\n",
       "      <th>YearRemodAdd</th>\n",
       "      <th>MasVnrArea</th>\n",
       "      <th>BsmtFinSF1</th>\n",
       "      <th>BsmtFinSF2</th>\n",
       "      <th>...</th>\n",
       "      <th>GarageArea</th>\n",
       "      <th>WoodDeckSF</th>\n",
       "      <th>OpenPorchSF</th>\n",
       "      <th>EnclosedPorch</th>\n",
       "      <th>3SsnPorch</th>\n",
       "      <th>ScreenPorch</th>\n",
       "      <th>PoolArea</th>\n",
       "      <th>MiscVal</th>\n",
       "      <th>MoSold</th>\n",
       "      <th>YrSold</th>\n",
       "    </tr>\n",
       "    <tr>\n",
       "      <th>Id</th>\n",
       "      <th></th>\n",
       "      <th></th>\n",
       "      <th></th>\n",
       "      <th></th>\n",
       "      <th></th>\n",
       "      <th></th>\n",
       "      <th></th>\n",
       "      <th></th>\n",
       "      <th></th>\n",
       "      <th></th>\n",
       "      <th></th>\n",
       "      <th></th>\n",
       "      <th></th>\n",
       "      <th></th>\n",
       "      <th></th>\n",
       "      <th></th>\n",
       "      <th></th>\n",
       "      <th></th>\n",
       "      <th></th>\n",
       "      <th></th>\n",
       "      <th></th>\n",
       "    </tr>\n",
       "  </thead>\n",
       "  <tbody>\n",
       "    <tr>\n",
       "      <th>619</th>\n",
       "      <td>20</td>\n",
       "      <td>90.0</td>\n",
       "      <td>11694</td>\n",
       "      <td>9</td>\n",
       "      <td>5</td>\n",
       "      <td>2007</td>\n",
       "      <td>2007</td>\n",
       "      <td>452.0</td>\n",
       "      <td>48</td>\n",
       "      <td>0</td>\n",
       "      <td>...</td>\n",
       "      <td>774</td>\n",
       "      <td>0</td>\n",
       "      <td>108</td>\n",
       "      <td>0</td>\n",
       "      <td>0</td>\n",
       "      <td>260</td>\n",
       "      <td>0</td>\n",
       "      <td>0</td>\n",
       "      <td>7</td>\n",
       "      <td>2007</td>\n",
       "    </tr>\n",
       "    <tr>\n",
       "      <th>871</th>\n",
       "      <td>20</td>\n",
       "      <td>60.0</td>\n",
       "      <td>6600</td>\n",
       "      <td>5</td>\n",
       "      <td>5</td>\n",
       "      <td>1962</td>\n",
       "      <td>1962</td>\n",
       "      <td>0.0</td>\n",
       "      <td>0</td>\n",
       "      <td>0</td>\n",
       "      <td>...</td>\n",
       "      <td>308</td>\n",
       "      <td>0</td>\n",
       "      <td>0</td>\n",
       "      <td>0</td>\n",
       "      <td>0</td>\n",
       "      <td>0</td>\n",
       "      <td>0</td>\n",
       "      <td>0</td>\n",
       "      <td>8</td>\n",
       "      <td>2009</td>\n",
       "    </tr>\n",
       "    <tr>\n",
       "      <th>93</th>\n",
       "      <td>30</td>\n",
       "      <td>80.0</td>\n",
       "      <td>13360</td>\n",
       "      <td>5</td>\n",
       "      <td>7</td>\n",
       "      <td>1921</td>\n",
       "      <td>2006</td>\n",
       "      <td>0.0</td>\n",
       "      <td>713</td>\n",
       "      <td>0</td>\n",
       "      <td>...</td>\n",
       "      <td>432</td>\n",
       "      <td>0</td>\n",
       "      <td>0</td>\n",
       "      <td>44</td>\n",
       "      <td>0</td>\n",
       "      <td>0</td>\n",
       "      <td>0</td>\n",
       "      <td>0</td>\n",
       "      <td>8</td>\n",
       "      <td>2009</td>\n",
       "    </tr>\n",
       "    <tr>\n",
       "      <th>818</th>\n",
       "      <td>20</td>\n",
       "      <td>NaN</td>\n",
       "      <td>13265</td>\n",
       "      <td>8</td>\n",
       "      <td>5</td>\n",
       "      <td>2002</td>\n",
       "      <td>2002</td>\n",
       "      <td>148.0</td>\n",
       "      <td>1218</td>\n",
       "      <td>0</td>\n",
       "      <td>...</td>\n",
       "      <td>857</td>\n",
       "      <td>150</td>\n",
       "      <td>59</td>\n",
       "      <td>0</td>\n",
       "      <td>0</td>\n",
       "      <td>0</td>\n",
       "      <td>0</td>\n",
       "      <td>0</td>\n",
       "      <td>7</td>\n",
       "      <td>2008</td>\n",
       "    </tr>\n",
       "    <tr>\n",
       "      <th>303</th>\n",
       "      <td>20</td>\n",
       "      <td>118.0</td>\n",
       "      <td>13704</td>\n",
       "      <td>7</td>\n",
       "      <td>5</td>\n",
       "      <td>2001</td>\n",
       "      <td>2002</td>\n",
       "      <td>150.0</td>\n",
       "      <td>0</td>\n",
       "      <td>0</td>\n",
       "      <td>...</td>\n",
       "      <td>843</td>\n",
       "      <td>468</td>\n",
       "      <td>81</td>\n",
       "      <td>0</td>\n",
       "      <td>0</td>\n",
       "      <td>0</td>\n",
       "      <td>0</td>\n",
       "      <td>0</td>\n",
       "      <td>1</td>\n",
       "      <td>2006</td>\n",
       "    </tr>\n",
       "  </tbody>\n",
       "</table>\n",
       "<p>5 rows × 36 columns</p>\n",
       "</div>"
      ],
      "text/plain": [
       "     MSSubClass  LotFrontage  LotArea  OverallQual  OverallCond  YearBuilt  \\\n",
       "Id                                                                           \n",
       "619          20         90.0    11694            9            5       2007   \n",
       "871          20         60.0     6600            5            5       1962   \n",
       "93           30         80.0    13360            5            7       1921   \n",
       "818          20          NaN    13265            8            5       2002   \n",
       "303          20        118.0    13704            7            5       2001   \n",
       "\n",
       "     YearRemodAdd  MasVnrArea  BsmtFinSF1  BsmtFinSF2  ...  GarageArea  \\\n",
       "Id                                                     ...               \n",
       "619          2007       452.0          48           0  ...         774   \n",
       "871          1962         0.0           0           0  ...         308   \n",
       "93           2006         0.0         713           0  ...         432   \n",
       "818          2002       148.0        1218           0  ...         857   \n",
       "303          2002       150.0           0           0  ...         843   \n",
       "\n",
       "     WoodDeckSF  OpenPorchSF  EnclosedPorch  3SsnPorch  ScreenPorch  PoolArea  \\\n",
       "Id                                                                              \n",
       "619           0          108              0          0          260         0   \n",
       "871           0            0              0          0            0         0   \n",
       "93            0            0             44          0            0         0   \n",
       "818         150           59              0          0            0         0   \n",
       "303         468           81              0          0            0         0   \n",
       "\n",
       "     MiscVal  MoSold  YrSold  \n",
       "Id                            \n",
       "619        0       7    2007  \n",
       "871        0       8    2009  \n",
       "93         0       8    2009  \n",
       "818        0       7    2008  \n",
       "303        0       1    2006  \n",
       "\n",
       "[5 rows x 36 columns]"
      ]
     },
     "execution_count": 28,
     "metadata": {},
     "output_type": "execute_result"
    }
   ],
   "source": [
    "# --- データの先頭5行を表示 ---\n",
    "# .head() でデータフレームの最初の5行を表示できる。\n",
    "# データの中身やカラム名、値の型を把握するのに役立つ。\n",
    "X_train.head()"
   ]
  },
  {
   "cell_type": "markdown",
   "metadata": {},
   "source": [
    "先ほど表示したデータの中にも、すでにいくつか欠損値（NaN）が含まれているのが分かる。\n",
    "\n",
    "次のステップでは、データセット全体の欠損値の状況をより詳しく調べていく。\n",
    "\n",
    "# ステップ1: 欠損値の事前調査\n",
    "\n",
    "下のコードセルはそのまま実行しよう。"
   ]
  },
  {
   "cell_type": "code",
   "execution_count": 29,
   "metadata": {},
   "outputs": [
    {
     "name": "stdout",
     "output_type": "stream",
     "text": [
      "(1168, 36)\n",
      "LotFrontage    212\n",
      "MasVnrArea       6\n",
      "GarageYrBlt     58\n",
      "dtype: int64\n"
     ]
    }
   ],
   "source": [
    "# --- データの形状と欠損値のカウント ---\n",
    "# X_train.shape で（行数, 列数）を表示。\n",
    "# 欠損値（NaN）がどのカラムにどれだけ含まれているかを調べる。\n",
    "print(X_train.shape)\n",
    "\n",
    "# 各カラムごとの欠損値の個数を計算。\n",
    "missing_val_count_by_column = (X_train.isnull().sum())\n",
    "# 欠損値が1つ以上あるカラムだけを表示。\n",
    "print(missing_val_count_by_column[missing_val_count_by_column > 0])"
   ]
  },
  {
   "cell_type": "code",
   "execution_count": 30,
   "metadata": {},
   "outputs": [
    {
     "name": "stdout",
     "output_type": "stream",
     "text": [
      "     MSSubClass  LotFrontage  LotArea  OverallQual  OverallCond  YearBuilt  \\\n",
      "Id                                                                           \n",
      "619       False        False    False        False        False      False   \n",
      "871       False        False    False        False        False      False   \n",
      "93        False        False    False        False        False      False   \n",
      "818       False         True    False        False        False      False   \n",
      "303       False        False    False        False        False      False   \n",
      "\n",
      "     YearRemodAdd  MasVnrArea  BsmtFinSF1  BsmtFinSF2  ...  GarageArea  \\\n",
      "Id                                                     ...               \n",
      "619         False       False       False       False  ...       False   \n",
      "871         False       False       False       False  ...       False   \n",
      "93          False       False       False       False  ...       False   \n",
      "818         False       False       False       False  ...       False   \n",
      "303         False       False       False       False  ...       False   \n",
      "\n",
      "     WoodDeckSF  OpenPorchSF  EnclosedPorch  3SsnPorch  ScreenPorch  PoolArea  \\\n",
      "Id                                                                              \n",
      "619       False        False          False      False        False     False   \n",
      "871       False        False          False      False        False     False   \n",
      "93        False        False          False      False        False     False   \n",
      "818       False        False          False      False        False     False   \n",
      "303       False        False          False      False        False     False   \n",
      "\n",
      "     MiscVal  MoSold  YrSold  \n",
      "Id                            \n",
      "619    False   False   False  \n",
      "871    False   False   False  \n",
      "93     False   False   False  \n",
      "818    False   False   False  \n",
      "303    False   False   False  \n",
      "\n",
      "[5 rows x 36 columns]\n"
     ]
    }
   ],
   "source": [
    "# --- 欠損値の有無をTrue/Falseで判定 ---\n",
    "isnull_df = X_train.isnull()\n",
    "print(isnull_df.head())  # 各セルが欠損値ならTrue, そうでなければFalse"
   ]
  },
  {
   "cell_type": "markdown",
   "metadata": {},
   "source": [
    "上記のコードは、X_trainの各セルが欠損値（NaN）かどうかを判定し、True/Falseのデータフレームを返す。\n",
    "pandasのisnull()は、各要素がNaNならTrue、そうでなければFalseになる。"
   ]
  },
  {
   "cell_type": "code",
   "execution_count": 31,
   "metadata": {},
   "outputs": [
    {
     "name": "stdout",
     "output_type": "stream",
     "text": [
      "MSSubClass         0\n",
      "LotFrontage      212\n",
      "LotArea            0\n",
      "OverallQual        0\n",
      "OverallCond        0\n",
      "YearBuilt          0\n",
      "YearRemodAdd       0\n",
      "MasVnrArea         6\n",
      "BsmtFinSF1         0\n",
      "BsmtFinSF2         0\n",
      "BsmtUnfSF          0\n",
      "TotalBsmtSF        0\n",
      "1stFlrSF           0\n",
      "2ndFlrSF           0\n",
      "LowQualFinSF       0\n",
      "GrLivArea          0\n",
      "BsmtFullBath       0\n",
      "BsmtHalfBath       0\n",
      "FullBath           0\n",
      "HalfBath           0\n",
      "BedroomAbvGr       0\n",
      "KitchenAbvGr       0\n",
      "TotRmsAbvGrd       0\n",
      "Fireplaces         0\n",
      "GarageYrBlt       58\n",
      "GarageCars         0\n",
      "GarageArea         0\n",
      "WoodDeckSF         0\n",
      "OpenPorchSF        0\n",
      "EnclosedPorch      0\n",
      "3SsnPorch          0\n",
      "ScreenPorch        0\n",
      "PoolArea           0\n",
      "MiscVal            0\n",
      "MoSold             0\n",
      "YrSold             0\n",
      "dtype: int64\n"
     ]
    }
   ],
   "source": [
    "# --- 各カラムごとの欠損値の個数をカウント ---\n",
    "missing_val_count_by_column = isnull_df.sum()\n",
    "print(missing_val_count_by_column)  # 各カラムごとの欠損値の個数"
   ]
  },
  {
   "cell_type": "markdown",
   "metadata": {},
   "source": [
    "isnull_df.sum() は、各カラムごとにTrue（=1）の数を合計する。\n",
    "つまり、各カラムに何個の欠損値があるかをSeriesで返す。"
   ]
  },
  {
   "cell_type": "code",
   "execution_count": 32,
   "metadata": {},
   "outputs": [
    {
     "name": "stdout",
     "output_type": "stream",
     "text": [
      "LotFrontage    212\n",
      "MasVnrArea       6\n",
      "GarageYrBlt     58\n",
      "dtype: int64\n"
     ]
    }
   ],
   "source": [
    "# --- 欠損値が1つ以上あるカラムだけを抽出 ---\n",
    "print(missing_val_count_by_column[missing_val_count_by_column > 0])"
   ]
  },
  {
   "cell_type": "markdown",
   "metadata": {},
   "source": [
    "missing_val_count_by_column[missing_val_count_by_column > 0] で、\n",
    "欠損値が1つ以上あるカラムだけを抽出して表示できる。"
   ]
  },
  {
   "cell_type": "markdown",
   "metadata": {},
   "source": [
    "### パートA\n",
    "\n",
    "上の出力結果を使って、以下の質問に答えよう。\n",
    "\n",
    "- 訓練データの行数はいくつか？\n",
    "- 欠損値を含むカラムはいくつか？\n",
    "- 全体で欠損しているデータはいくつか？\n",
    "\n",
    "（ヒント：print(X_train.shape)や、欠損値カウントの出力をよく見よう）"
   ]
  },
  {
   "cell_type": "code",
   "execution_count": 33,
   "metadata": {},
   "outputs": [],
   "source": [
    "# # --- 訓練データの行数 ---\n",
    "# # X_train.shape[0] で行数（サンプル数）が分かる。\n",
    "# num_rows = 1168  # 行数\n",
    "\n",
    "# # --- 欠損値を含むカラム数 ---\n",
    "# # 欠損値が1つ以上あるカラムの数。\n",
    "# num_cols_with_missing = 3  # 欠損カラム数\n",
    "\n",
    "# # --- 全体の欠損値の個数 ---\n",
    "# # 欠損値カウントの合計。\n",
    "# tot_missing = 276  # 欠損値の総数\n",
    "\n",
    "# # --- 答え合わせ（Kaggleの自動採点用）---\n",
    "# step_1.a.check()"
   ]
  },
  {
   "cell_type": "markdown",
   "metadata": {},
   "source": [
    "### パートB\n",
    "上記の結果を踏まえて、欠損値への対処として最も良い方法は何だと思う？\n",
    "\n",
    "+ **自分の答え:** 欠損しているデータが少ないので、削除よりも補完（imputation）が良い選択肢。"
   ]
  },
  {
   "cell_type": "code",
   "execution_count": 35,
   "metadata": {},
   "outputs": [],
   "source": [
    "# step_1.b.hint()"
   ]
  },
  {
   "cell_type": "code",
   "execution_count": 36,
   "metadata": {},
   "outputs": [],
   "source": [
    "# step_1.b.solution()"
   ]
  },
  {
   "cell_type": "markdown",
   "metadata": {},
   "source": [
    "欠損値への対処法を比較するために、チュートリアルで使った `score_dataset()` 関数をここでも利用する。\n",
    "この関数はランダムフォレストモデルでの[平均絶対誤差（MAE）](https://en.wikipedia.org/wiki/Mean_absolute_error)を計算する。"
   ]
  },
  {
   "cell_type": "markdown",
   "metadata": {},
   "source": [
    "intermediate_machine_learning/02-missing-values.ipynb にそのまま貼り付けて使える、MAE（平均絶対誤差）を使う理由の詳細な解説（Markdownセル用）を出力した。\n",
    "\n",
    "---\n",
    "\n",
    "## なぜMAE（平均絶対誤差）を使うのか？\n",
    "\n",
    "MAE（Mean Absolute Error）は、回帰問題でモデルの予測精度を評価するための指標の一つ。ここでMAEを使う理由を、他の指標（MSE, RMSEなど）と比較しながら詳しく解説する。\n",
    "\n",
    "---\n",
    "\n",
    "### 1. MAEの直感的な意味\n",
    "\n",
    "- MAEは「予測値と実際の値のズレ（誤差）」の絶対値の平均。\n",
    "- たとえばMAE=5なら「平均して5だけ外れている」と解釈できる。\n",
    "- 単位も元データと同じなので、解釈しやすい。\n",
    "\n",
    "---\n",
    "\n",
    "### 2. 他の指標との比較\n",
    "\n",
    "#### MSE（平均二乗誤差）・RMSE（二乗平均平方根誤差）\n",
    "\n",
    "- MSEやRMSEは誤差を2乗するため、大きな外れ値（outlier）に非常に敏感。\n",
    "- 外れ値が多いデータや、外れ値の影響を抑えたい場合には不向き。\n",
    "- 単位が元データと異なり、直感的な解釈が難しい。\n",
    "\n",
    "#### MAEの特徴\n",
    "\n",
    "- 誤差をそのまま絶対値で評価するため、外れ値の影響を受けにくい。\n",
    "- 「平均的にどれくらい外れているか」をそのまま示す。\n",
    "- 欠損値処理の比較など、シンプルな評価をしたいときに適している。\n",
    "\n",
    "---\n",
    "\n",
    "### 3. 欠損値処理の比較におけるMAEの利点\n",
    "\n",
    "- 欠損値の補完方法を比較する際、モデルの予測誤差が「どれくらいズレているか」を直接知りたい。\n",
    "- MAEは外れ値の影響を受けにくく、補完方法の違いによる「全体的なズレ」を素直に評価できる。\n",
    "- そのため、欠損値処理の効果を比較する場面ではMAEがよく使われる。\n",
    "\n",
    "---\n",
    "\n",
    "### 4. まとめ\n",
    "\n",
    "- MAEは「平均的なズレ」を直感的に示す指標。\n",
    "- 外れ値の影響を受けにくく、解釈しやすい。\n",
    "- 欠損値処理の比較など、シンプルな評価をしたいときに最適。\n",
    "\n",
    "---\n",
    "\n",
    "#### 参考: MAEの数式\n",
    "\n",
    "\\[\n",
    "\\mathrm{MAE} = \\frac{1}{n} \\sum_{i=1}^{n} |y_i - \\hat{y}_i|\n",
    "\\]\n",
    "\n",
    "- \\( y_i \\)：実際の値\n",
    "- \\( \\hat{y}_i \\)：予測値\n",
    "- \\( n \\)：データ数"
   ]
  },
  {
   "cell_type": "code",
   "execution_count": 37,
   "metadata": {},
   "outputs": [],
   "source": [
    "# --- モデル評価用関数の定義 ---\n",
    "from sklearn.ensemble import RandomForestRegressor  # ランダムフォレスト回帰モデル\n",
    "from sklearn.metrics import mean_absolute_error     # 平均絶対誤差（MAE）\n",
    "\n",
    "# 様々な前処理方法の性能を比較するための関数。\n",
    "# ランダムフォレストで学習し、検証データでのMAE（平均絶対誤差）を返す。\n",
    "def score_dataset(X_train, X_valid, y_train, y_valid):\n",
    "    model = RandomForestRegressor(n_estimators=100, random_state=0)  # 決定木100本、乱数固定\n",
    "    model.fit(X_train, y_train)  # 学習\n",
    "    preds = model.predict(X_valid)  # 予測\n",
    "    return mean_absolute_error(y_valid, preds)  # MAEを返す"
   ]
  },
  {
   "cell_type": "markdown",
   "metadata": {},
   "source": [
    "## `score_dataset` 関数の解説\n",
    "\n",
    "```python\n",
    "def score_dataset(X_train, X_valid, y_train, y_valid):\n",
    "    model = RandomForestRegressor(n_estimators=100, random_state=0)  # 決定木100本、乱数固定\n",
    "    model.fit(X_train, y_train)  # 学習\n",
    "    preds = model.predict(X_valid)  # 予測\n",
    "    return mean_absolute_error(y_valid, preds)  # MAEを返す\n",
    "```\n",
    "\n",
    "---\n",
    "\n",
    "### 各ステップの説明\n",
    "\n",
    "1. **モデルの作成**\n",
    "    ```python\n",
    "    model = RandomForestRegressor(n_estimators=100, random_state=0)\n",
    "    ```\n",
    "    - ランダムフォレスト回帰モデルを作成。\n",
    "    - `n_estimators=100`：100本の決定木を使う。\n",
    "    - `random_state=0`：乱数シードを固定し、毎回同じ結果になるようにする。\n",
    "\n",
    "2. **モデルの学習**\n",
    "    ```python\n",
    "    model.fit(X_train, y_train)\n",
    "    ```\n",
    "    - 学習用データ（特徴量 `X_train` と正解ラベル `y_train`）でモデルを訓練。\n",
    "\n",
    "3. **予測**\n",
    "    ```python\n",
    "    preds = model.predict(X_valid)\n",
    "    ```\n",
    "    - 検証用データ（`X_valid`）に対して予測値を出す。\n",
    "\n",
    "4. **評価（MAEの計算）**\n",
    "    ```python\n",
    "    return mean_absolute_error(y_valid, preds)\n",
    "    ```\n",
    "    - 予測値 `preds` と実際の値 `y_valid` の間の平均絶対誤差（MAE）を計算し、その値を返す。\n",
    "    - MAEは「平均してどれくらい外れているか」を示す指標。\n",
    "\n",
    "---\n",
    "\n",
    "### ランダムフォレストとは\n",
    "\n",
    "- ランダムフォレストは「複数の決定木を組み合わせて予測する」アンサンブル学習手法。\n",
    "- 各決定木はデータの一部や特徴量の一部だけを使って学習し、それぞれ独立に予測を行う。\n",
    "- 最終的な予測は、各決定木の予測結果の平均（回帰の場合）や多数決（分類の場合）で決まる。\n",
    "- これにより、単一の決定木よりも「過学習しにくく」「精度が高い」モデルになる。\n",
    "\n",
    "---\n",
    "\n",
    "### 決定木とは\n",
    "\n",
    "- 決定木は「特徴量に基づいてデータを分割し、最終的に予測値を出す」シンプルなモデル。\n",
    "- 木構造で分岐を繰り返し、各葉ノードで予測値を決定する。\n",
    "- 直感的で解釈しやすいが、単体では過学習しやすいという弱点がある。\n",
    "\n",
    "---\n",
    "\n",
    "### なぜ100本の決定木なのか\n",
    "\n",
    "- 決定木の本数（`n_estimators`）を増やすことで、ランダムフォレストの予測はより安定し、精度が向上する。\n",
    "- ただし、木の本数が多すぎると計算コストが増える。\n",
    "- 100本は「十分な精度」と「計算コスト」のバランスが良いとされる一般的な値。\n",
    "- 実際のタスクやデータセットによって最適な本数は異なるが、まずは100本程度から試すのが定石。\n",
    "\n",
    "---\n",
    "\n",
    "### まとめ\n",
    "\n",
    "- この関数は「与えられたデータセットでランダムフォレスト回帰モデルを訓練し、検証データでのMAE（平均絶対誤差）を返す」もの。\n",
    "- 欠損値処理などの前後でこの関数を使うことで、処理方法ごとのモデル精度（誤差）の違いを簡単に比較できる。\n",
    "- ランダムフォレストは複数の決定木を使うことで、単一の決定木よりも高い汎化性能を持つ。\n",
    "- 100本の決定木は、精度と計算コストのバランスを考慮した一般的な選択肢。"
   ]
  },
  {
   "cell_type": "markdown",
   "metadata": {},
   "source": [
    "## ステップ2: 欠損値を含むカラムの除去\n",
    "\n",
    "このステップでは、訓練データ（`X_train`）と検証データ（`X_valid`）から、1つでも欠損値（NaN）が含まれるカラムを全て除去する。\n",
    "欠損値を含む特徴量を丸ごと削除することで、モデルが欠損値に悩まされずに学習できるようにする。\n",
    "ただし、情報が失われるため、他の方法（補完など）と比較して精度がどう変わるかも確認する必要がある。"
   ]
  },
  {
   "cell_type": "code",
   "execution_count": 40,
   "metadata": {},
   "outputs": [
    {
     "name": "stdout",
     "output_type": "stream",
     "text": [
      "欠損値を含むカラム: ['LotFrontage', 'MasVnrArea', 'GarageYrBlt']\n",
      "除去後のカラム数: 33\n"
     ]
    }
   ],
   "source": [
    "# --- 欠損値を含むカラムの除去 ---\n",
    "# X_trainの各カラムについて、isnull().any() で1つでも欠損値があるかを判定し、\n",
    "# 欠損値を含むカラム名をリストアップする。\n",
    "cols_with_missing = [col for col in X_train.columns if X_train[col].isnull().any()]\n",
    "\n",
    "# 上記のカラムを訓練・検証データから除去\n",
    "reduced_X_train = X_train.drop(cols_with_missing, axis=1)\n",
    "reduced_X_valid = X_valid.drop(cols_with_missing, axis=1)\n",
    "\n",
    "# 除去したカラム名と、除去後のカラム数を確認\n",
    "print(\"欠損値を含むカラム:\", cols_with_missing)\n",
    "print(\"除去後のカラム数:\", reduced_X_train.shape[1])\n",
    "\n",
    "# --- 答え合わせ（Kaggleの自動採点用）---\n",
    "# このセルはKaggle環境でのみ有効。ローカル環境ではコメントアウトのままにしておく。\n",
    "# step_2.check()"
   ]
  },
  {
   "cell_type": "markdown",
   "metadata": {},
   "source": [
    "#### 【解説】リスト内包表記の分解と出力例\n",
    "\n",
    "`cols_with_missing = [col for col in X_train.columns if X_train[col].isnull().any()]` の各構成要素を分解して解説する。"
   ]
  },
  {
   "cell_type": "markdown",
   "metadata": {},
   "source": [
    "**X_train.columns は何か？**\n",
    "\n",
    "`X_train.columns` は、訓練データ `X_train` の全てのカラム名（列名）を表す。型は pandas の Index 型。\n",
    "\n",
    "【出力例】"
   ]
  },
  {
   "cell_type": "code",
   "execution_count": 42,
   "metadata": {},
   "outputs": [
    {
     "name": "stdout",
     "output_type": "stream",
     "text": [
      "Index(['MSSubClass', 'LotFrontage', 'LotArea', 'OverallQual', 'OverallCond',\n",
      "       'YearBuilt', 'YearRemodAdd', 'MasVnrArea', 'BsmtFinSF1', 'BsmtFinSF2',\n",
      "       'BsmtUnfSF', 'TotalBsmtSF', '1stFlrSF', '2ndFlrSF', 'LowQualFinSF',\n",
      "       'GrLivArea', 'BsmtFullBath', 'BsmtHalfBath', 'FullBath', 'HalfBath',\n",
      "       'BedroomAbvGr', 'KitchenAbvGr', 'TotRmsAbvGrd', 'Fireplaces',\n",
      "       'GarageYrBlt', 'GarageCars', 'GarageArea', 'WoodDeckSF', 'OpenPorchSF',\n",
      "       'EnclosedPorch', '3SsnPorch', 'ScreenPorch', 'PoolArea', 'MiscVal',\n",
      "       'MoSold', 'YrSold'],\n",
      "      dtype='object')\n"
     ]
    }
   ],
   "source": [
    "print(X_train.columns)"
   ]
  },
  {
   "cell_type": "markdown",
   "metadata": {},
   "source": [
    "**for col in X_train.columns の目的**\n",
    "\n",
    "`for col in X_train.columns` は、全てのカラム名（列名）を1つずつ順番に `col` という変数に取り出すためのループ。\n",
    "\n",
    "これを使うことで、全カラムに対して同じ処理を繰り返し実行できる。\n",
    "\n",
    "【出力例】"
   ]
  },
  {
   "cell_type": "code",
   "execution_count": 43,
   "metadata": {},
   "outputs": [
    {
     "name": "stdout",
     "output_type": "stream",
     "text": [
      "MSSubClass\n",
      "LotFrontage\n",
      "LotArea\n",
      "OverallQual\n",
      "OverallCond\n"
     ]
    }
   ],
   "source": [
    "for col in list(X_train.columns)[:5]:\n",
    "    print(col)"
   ]
  },
  {
   "cell_type": "markdown",
   "metadata": {},
   "source": [
    "**X_train[col].isnull() とは？**\n",
    "\n",
    "`X_train[col].isnull()` は、カラム `col` の各要素が欠損値（NaN）かどうかを判定し、True/False の Series を返す。\n",
    "\n",
    "【出力例】"
   ]
  },
  {
   "cell_type": "code",
   "execution_count": 44,
   "metadata": {},
   "outputs": [
    {
     "name": "stdout",
     "output_type": "stream",
     "text": [
      "Id\n",
      "619    False\n",
      "871    False\n",
      "93     False\n",
      "818     True\n",
      "303    False\n",
      "Name: LotFrontage, dtype: bool\n"
     ]
    }
   ],
   "source": [
    "print(X_train[\"LotFrontage\"].isnull().head())  # 例として 'LotFrontage' カラム"
   ]
  },
  {
   "cell_type": "markdown",
   "metadata": {},
   "source": [
    "**X_train[col].isnull().any() とは？**\n",
    "\n",
    "`X_train[col].isnull().any()` は、カラム `col` の中に1つでも欠損値（NaN）があれば True、なければ False を返す。\n",
    "\n",
    "【出力例】"
   ]
  },
  {
   "cell_type": "code",
   "execution_count": 45,
   "metadata": {},
   "outputs": [
    {
     "name": "stdout",
     "output_type": "stream",
     "text": [
      "True\n"
     ]
    }
   ],
   "source": [
    "print(X_train[\"LotFrontage\"].isnull().any())  # 例として 'LotFrontage' カラム"
   ]
  },
  {
   "cell_type": "markdown",
   "metadata": {},
   "source": [
    "**[col for col in X_train.columns if X_train[col].isnull().any()] の目的と出力例**\n",
    "\n",
    "このリスト内包表記は「X_trainの全カラムのうち、1つでも欠損値（NaN）が含まれるカラム名だけをリストアップする」ためのもの。\n",
    "\n",
    "【出力例】"
   ]
  },
  {
   "cell_type": "code",
   "execution_count": 46,
   "metadata": {},
   "outputs": [
    {
     "name": "stdout",
     "output_type": "stream",
     "text": [
      "['LotFrontage', 'MasVnrArea', 'GarageYrBlt']\n"
     ]
    }
   ],
   "source": [
    "cols_with_missing = [col for col in X_train.columns if X_train[col].isnull().any()]\n",
    "print(cols_with_missing)"
   ]
  },
  {
   "cell_type": "markdown",
   "metadata": {},
   "source": [
    "---"
   ]
  },
  {
   "cell_type": "code",
   "execution_count": 41,
   "metadata": {},
   "outputs": [],
   "source": [
    "# --- ヒントや解答を表示したい場合は、下のコメントアウトを外す ---\n",
    "# step_2.hint()    # ヒントを表示\n",
    "# step_2.solution() # 解答例を表示"
   ]
  },
  {
   "cell_type": "markdown",
   "metadata": {},
   "source": [
    "上記コードでは、まず `X_train` の各カラムについて `isnull().any()` で欠損値が1つでもあるかを判定し、該当するカラム名をリスト `cols_with_missing` に格納している。\n",
    "その後、`drop` メソッドでこれらのカラムを訓練・検証データから除去している。\n",
    "最後に、除去後のカラム数を `shape[1]` で確認している。\n",
    "\n",
    "【出力例】\n",
    "```\n",
    "欠損値を含むカラム: ['LotFrontage', 'MasVnrArea', 'GarageYrBlt']\n",
    "除去後のカラム数: 33\n",
    "```\n"
   ]
  },
  {
   "cell_type": "markdown",
   "metadata": {},
   "source": [
    "# ステップ3: 補完（Imputation）\n",
    "\n",
    "## 欠損値補完の概要\n",
    "\n",
    "欠損値補完とは、欠損値（NaN）を何らかの値で埋める処理のこと。この方法では、データを削除せずに全ての情報を活用できる。\n",
    "\n",
    "補完方法にはいくつかあるが、ここでは「平均値補完」を試す。\n",
    "\n",
    "### パートA\n",
    "\n",
    "次のコードセルでは、各カラムの平均値で欠損値を補完（impute）する。\n",
    "補完後のデータフレームは `imputed_X_train` と `imputed_X_valid` に格納する。\n",
    "カラム名が元の `X_train`, `X_valid` と一致していることを確認しよう。"
   ]
  },
  {
   "cell_type": "code",
   "execution_count": null,
   "metadata": {},
   "outputs": [],
   "source": [
    "# --- 平均値での補完（Imputation）に必要なライブラリをインポート ---\n",
    "from sklearn.impute import SimpleImputer  # 欠損値補完用\n",
    "\n",
    "# SimpleImputerを使って、各カラムの平均値で欠損値を埋める\n",
    "# strategy='mean'がデフォルトで平均値補完を意味する\n",
    "my_imputer = SimpleImputer()  # デフォルトで平均値補完\n",
    "\n",
    "# 訓練データに対して補完器を適合(fit)させ、変換(transform)する\n",
    "# fit_transform()は「学習と変換」を一度に行う\n",
    "imputed_X_train = pd.DataFrame(my_imputer.fit_transform(X_train))\n",
    "\n",
    "# 検証データは訓練データと同じ方法（同じ平均値）で補完する\n",
    "# 検証データに対しては学習済みの補完器でtransformのみ実行\n",
    "imputed_X_valid = pd.DataFrame(my_imputer.transform(X_valid))\n"
   ]
  },
  {
   "cell_type": "markdown",
   "metadata": {},
   "source": [
    "#### なぜfitとtransformを分けるのか\n",
    "訓練データと検証データで別々に処理している理由：\n",
    "\n",
    "- データリーク防止: 検証データの情報が訓練に漏れないようにするため\n",
    "- 一貫性の確保: 両方のデータセットで同じ値（訓練データから計算した平均値）を使って補完するため\n",
    "\n",
    "例えば、訓練データのLotFrontageの平均が69.614017、検証データの平均が75.0だとしても、検証データの欠損値も69.614017で補完する。これにより、モデルが訓練時に見た値の分布と検証時の値の分布が一致し、公平な評価ができる。\n",
    "\n",
    "コード例では、fit_transform()で訓練データに対して学習と変換を一度に行い、検証データにはtransform()のみを適用して、訓練データから学習した同じ平均値で補完している。"
   ]
  },
  {
   "cell_type": "markdown",
   "metadata": {},
   "source": [
    "## SimpleImputerの動作と注意点\n",
    "\n",
    "SimpleImputerは欠損値を補完するが、DataFrame→Numpy配列→DataFrameという変換過程でカラム名が失われる。そのため、元のカラム名を再設定する必要がある。"
   ]
  },
  {
   "cell_type": "code",
   "execution_count": 50,
   "metadata": {},
   "outputs": [
    {
     "data": {
      "text/html": [
       "<div>\n",
       "<style scoped>\n",
       "    .dataframe tbody tr th:only-of-type {\n",
       "        vertical-align: middle;\n",
       "    }\n",
       "\n",
       "    .dataframe tbody tr th {\n",
       "        vertical-align: top;\n",
       "    }\n",
       "\n",
       "    .dataframe thead th {\n",
       "        text-align: right;\n",
       "    }\n",
       "</style>\n",
       "<table border=\"1\" class=\"dataframe\">\n",
       "  <thead>\n",
       "    <tr style=\"text-align: right;\">\n",
       "      <th></th>\n",
       "      <th>MSSubClass</th>\n",
       "      <th>LotFrontage</th>\n",
       "      <th>LotArea</th>\n",
       "      <th>OverallQual</th>\n",
       "      <th>OverallCond</th>\n",
       "      <th>YearBuilt</th>\n",
       "      <th>YearRemodAdd</th>\n",
       "      <th>MasVnrArea</th>\n",
       "      <th>BsmtFinSF1</th>\n",
       "      <th>BsmtFinSF2</th>\n",
       "      <th>...</th>\n",
       "      <th>GarageArea</th>\n",
       "      <th>WoodDeckSF</th>\n",
       "      <th>OpenPorchSF</th>\n",
       "      <th>EnclosedPorch</th>\n",
       "      <th>3SsnPorch</th>\n",
       "      <th>ScreenPorch</th>\n",
       "      <th>PoolArea</th>\n",
       "      <th>MiscVal</th>\n",
       "      <th>MoSold</th>\n",
       "      <th>YrSold</th>\n",
       "    </tr>\n",
       "  </thead>\n",
       "  <tbody>\n",
       "    <tr>\n",
       "      <th>0</th>\n",
       "      <td>20.0</td>\n",
       "      <td>90.000000</td>\n",
       "      <td>11694.0</td>\n",
       "      <td>9.0</td>\n",
       "      <td>5.0</td>\n",
       "      <td>2007.0</td>\n",
       "      <td>2007.0</td>\n",
       "      <td>452.0</td>\n",
       "      <td>48.0</td>\n",
       "      <td>0.0</td>\n",
       "      <td>...</td>\n",
       "      <td>774.0</td>\n",
       "      <td>0.0</td>\n",
       "      <td>108.0</td>\n",
       "      <td>0.0</td>\n",
       "      <td>0.0</td>\n",
       "      <td>260.0</td>\n",
       "      <td>0.0</td>\n",
       "      <td>0.0</td>\n",
       "      <td>7.0</td>\n",
       "      <td>2007.0</td>\n",
       "    </tr>\n",
       "    <tr>\n",
       "      <th>1</th>\n",
       "      <td>20.0</td>\n",
       "      <td>60.000000</td>\n",
       "      <td>6600.0</td>\n",
       "      <td>5.0</td>\n",
       "      <td>5.0</td>\n",
       "      <td>1962.0</td>\n",
       "      <td>1962.0</td>\n",
       "      <td>0.0</td>\n",
       "      <td>0.0</td>\n",
       "      <td>0.0</td>\n",
       "      <td>...</td>\n",
       "      <td>308.0</td>\n",
       "      <td>0.0</td>\n",
       "      <td>0.0</td>\n",
       "      <td>0.0</td>\n",
       "      <td>0.0</td>\n",
       "      <td>0.0</td>\n",
       "      <td>0.0</td>\n",
       "      <td>0.0</td>\n",
       "      <td>8.0</td>\n",
       "      <td>2009.0</td>\n",
       "    </tr>\n",
       "    <tr>\n",
       "      <th>2</th>\n",
       "      <td>30.0</td>\n",
       "      <td>80.000000</td>\n",
       "      <td>13360.0</td>\n",
       "      <td>5.0</td>\n",
       "      <td>7.0</td>\n",
       "      <td>1921.0</td>\n",
       "      <td>2006.0</td>\n",
       "      <td>0.0</td>\n",
       "      <td>713.0</td>\n",
       "      <td>0.0</td>\n",
       "      <td>...</td>\n",
       "      <td>432.0</td>\n",
       "      <td>0.0</td>\n",
       "      <td>0.0</td>\n",
       "      <td>44.0</td>\n",
       "      <td>0.0</td>\n",
       "      <td>0.0</td>\n",
       "      <td>0.0</td>\n",
       "      <td>0.0</td>\n",
       "      <td>8.0</td>\n",
       "      <td>2009.0</td>\n",
       "    </tr>\n",
       "    <tr>\n",
       "      <th>3</th>\n",
       "      <td>20.0</td>\n",
       "      <td>69.614017</td>\n",
       "      <td>13265.0</td>\n",
       "      <td>8.0</td>\n",
       "      <td>5.0</td>\n",
       "      <td>2002.0</td>\n",
       "      <td>2002.0</td>\n",
       "      <td>148.0</td>\n",
       "      <td>1218.0</td>\n",
       "      <td>0.0</td>\n",
       "      <td>...</td>\n",
       "      <td>857.0</td>\n",
       "      <td>150.0</td>\n",
       "      <td>59.0</td>\n",
       "      <td>0.0</td>\n",
       "      <td>0.0</td>\n",
       "      <td>0.0</td>\n",
       "      <td>0.0</td>\n",
       "      <td>0.0</td>\n",
       "      <td>7.0</td>\n",
       "      <td>2008.0</td>\n",
       "    </tr>\n",
       "    <tr>\n",
       "      <th>4</th>\n",
       "      <td>20.0</td>\n",
       "      <td>118.000000</td>\n",
       "      <td>13704.0</td>\n",
       "      <td>7.0</td>\n",
       "      <td>5.0</td>\n",
       "      <td>2001.0</td>\n",
       "      <td>2002.0</td>\n",
       "      <td>150.0</td>\n",
       "      <td>0.0</td>\n",
       "      <td>0.0</td>\n",
       "      <td>...</td>\n",
       "      <td>843.0</td>\n",
       "      <td>468.0</td>\n",
       "      <td>81.0</td>\n",
       "      <td>0.0</td>\n",
       "      <td>0.0</td>\n",
       "      <td>0.0</td>\n",
       "      <td>0.0</td>\n",
       "      <td>0.0</td>\n",
       "      <td>1.0</td>\n",
       "      <td>2006.0</td>\n",
       "    </tr>\n",
       "  </tbody>\n",
       "</table>\n",
       "<p>5 rows × 36 columns</p>\n",
       "</div>"
      ],
      "text/plain": [
       "   MSSubClass  LotFrontage  LotArea  OverallQual  OverallCond  YearBuilt  \\\n",
       "0        20.0    90.000000  11694.0          9.0          5.0     2007.0   \n",
       "1        20.0    60.000000   6600.0          5.0          5.0     1962.0   \n",
       "2        30.0    80.000000  13360.0          5.0          7.0     1921.0   \n",
       "3        20.0    69.614017  13265.0          8.0          5.0     2002.0   \n",
       "4        20.0   118.000000  13704.0          7.0          5.0     2001.0   \n",
       "\n",
       "   YearRemodAdd  MasVnrArea  BsmtFinSF1  BsmtFinSF2  ...  GarageArea  \\\n",
       "0        2007.0       452.0        48.0         0.0  ...       774.0   \n",
       "1        1962.0         0.0         0.0         0.0  ...       308.0   \n",
       "2        2006.0         0.0       713.0         0.0  ...       432.0   \n",
       "3        2002.0       148.0      1218.0         0.0  ...       857.0   \n",
       "4        2002.0       150.0         0.0         0.0  ...       843.0   \n",
       "\n",
       "   WoodDeckSF  OpenPorchSF  EnclosedPorch  3SsnPorch  ScreenPorch  PoolArea  \\\n",
       "0         0.0        108.0            0.0        0.0        260.0       0.0   \n",
       "1         0.0          0.0            0.0        0.0          0.0       0.0   \n",
       "2         0.0          0.0           44.0        0.0          0.0       0.0   \n",
       "3       150.0         59.0            0.0        0.0          0.0       0.0   \n",
       "4       468.0         81.0            0.0        0.0          0.0       0.0   \n",
       "\n",
       "   MiscVal  MoSold  YrSold  \n",
       "0      0.0     7.0  2007.0  \n",
       "1      0.0     8.0  2009.0  \n",
       "2      0.0     8.0  2009.0  \n",
       "3      0.0     7.0  2008.0  \n",
       "4      0.0     1.0  2006.0  \n",
       "\n",
       "[5 rows x 36 columns]"
      ]
     },
     "execution_count": 50,
     "metadata": {},
     "output_type": "execute_result"
    }
   ],
   "source": [
    "\n",
    "# SimpleImputerで補完するとカラム名が消えるので、元のカラム名を再設定\n",
    "imputed_X_train.columns = X_train.columns\n",
    "imputed_X_valid.columns = X_valid.columns\n",
    "\n",
    "\n",
    "# 補完後のデータを確認（先頭5行）\n",
    "imputed_X_train.head()\n",
    "\n",
    "\n",
    "# --- 答え合わせ（Kaggleの自動採点用）---\n",
    "# step_3.a.check()\n",
    "\n",
    "\n",
    "# --- ヒントや解答を表示したい場合は、下のコメントアウトを外す ---\n",
    "# step_3.a.hint()    # ヒントを表示\n",
    "# step_3.a.solution() # 解答例を表示"
   ]
  },
  {
   "cell_type": "markdown",
   "metadata": {},
   "source": [
    "\n",
    "## 平均値補完後のモデル評価\n",
    "\n",
    "補完したデータを使ってモデルを評価し、MAE（平均絶対誤差）を確認する。"
   ]
  },
  {
   "cell_type": "code",
   "execution_count": 51,
   "metadata": {},
   "outputs": [
    {
     "name": "stdout",
     "output_type": "stream",
     "text": [
      "MAE (Imputation):\n",
      "18062.894611872147\n"
     ]
    }
   ],
   "source": [
    "# --- 平均値補完後のモデル評価（MAE算出）---\n",
    "print(\"MAE (Imputation):\")\n",
    "print(score_dataset(imputed_X_train, imputed_X_valid, y_train, y_valid))  # MAEを表示"
   ]
  },
  {
   "cell_type": "markdown",
   "metadata": {},
   "source": [
    "### パートB\n",
    "\n",
    "各手法（カラム削除と平均値補完）で得られたMAEを比較し、どちらが良い結果になったかを考察する。"
   ]
  },
  {
   "cell_type": "code",
   "execution_count": 52,
   "metadata": {},
   "outputs": [],
   "source": [
    "# --- ヒントや解答を表示したい場合は、下のコメントアウトを外す ---\n",
    "# step_3.b.hint()    # ヒントを表示\n",
    "# step_3.b.solution() # 解答例を表示"
   ]
  },
  {
   "cell_type": "markdown",
   "metadata": {},
   "source": [
    "# ステップ4: テストデータで予測を生成\n",
    "\n",
    "## 最終的な欠損値処理方法の選択\n",
    "\n",
    "この最終ステップでは、中央値（median）補完を採用する。中央値は外れ値の影響を受けにくいため、平均値よりも堅牢な補完方法となる場合が多い。\n",
    "\n",
    "### パートA\n",
    "\n",
    "訓練・検証データの最終前処理を行う。\n",
    "\n",
    "次のコードセルで訓練・検証データを前処理し、\n",
    "`final_X_train` と `final_X_valid` に格納する。\n",
    "（下記の条件を満たす必要がある）\n",
    "- 前処理後のデータフレームのカラム数が一致していること\n",
    "- 欠損値が残っていないこと\n",
    "- `final_X_train`と`y_train`の行数が一致していること\n",
    "- `final_X_valid`と`y_valid`の行数が一致していること"
   ]
  },
  {
   "cell_type": "code",
   "execution_count": 53,
   "metadata": {},
   "outputs": [],
   "source": [
    "# --- 訓練・検証データの最終前処理 ---\n",
    "# SimpleImputerで中央値（median）補完を採用\n",
    "# strategy='median' で各カラムの中央値で欠損値を埋める\n",
    "final_imputer = SimpleImputer(strategy='median')\n",
    "\n",
    "# 訓練データに対して補完器を適合(fit)させ、変換(transform)する\n",
    "final_X_train = pd.DataFrame(final_imputer.fit_transform(X_train))\n",
    "\n",
    "# 検証データは訓練データと同じ方法（同じ中央値）で補完する\n",
    "final_X_valid = pd.DataFrame(final_imputer.transform(X_valid))\n",
    "\n",
    "# SimpleImputerで補完するとカラム名が消えるので、元のカラム名を再設定\n",
    "final_X_train.columns = X_train.columns\n",
    "final_X_valid.columns = X_valid.columns\n",
    "\n",
    "# --- 答え合わせ（Kaggleの自動採点用）---\n",
    "# step_4.a.check()"
   ]
  },
  {
   "cell_type": "markdown",
   "metadata": {},
   "source": [
    "\n",
    "## ランダムフォレストモデルの学習と評価\n",
    "\n",
    "前処理したデータを使ってランダムフォレストモデルを学習し、検証データで評価する。\n",
    "（この後テストデータの予測に使うため、ここでは `score_dataset()` 関数は使わない点に注意）\n"
   ]
  },
  {
   "cell_type": "code",
   "execution_count": 54,
   "metadata": {},
   "outputs": [
    {
     "name": "stdout",
     "output_type": "stream",
     "text": [
      "MAE (Your approach):\n",
      "17459.893781256797\n"
     ]
    }
   ],
   "source": [
    "# --- ランダムフォレストで学習・評価 ---\n",
    "# n_estimators=210 で決定木の本数を増やし、より安定した予測を目指す\n",
    "# 決定木の本数を増やすと、一般的に予測精度が向上する（ただし計算コストも増加）\n",
    "model = RandomForestRegressor(n_estimators=210, random_state=0)\n",
    "\n",
    "# 訓練データでモデルを学習\n",
    "model.fit(final_X_train, y_train)\n",
    "\n",
    "# 検証データで予測\n",
    "preds_valid = model.predict(final_X_valid)\n",
    "\n",
    "# MAE（平均絶対誤差）を算出\n",
    "print(\"MAE (Your approach):\")\n",
    "print(mean_absolute_error(y_valid, preds_valid))"
   ]
  },
  {
   "cell_type": "markdown",
   "metadata": {},
   "source": [
    "### パートB\n",
    "\n",
    "テストデータも同じ方法で前処理し、学習済みモデルで予測を行う。\n",
    "\n",
    "次のコードセルでテストデータ（X_test）も前処理し、\n",
    "訓練・検証データと同じ方法（中央値補完）で処理して、\n",
    "前処理済みのテストデータを `final_X_test` に格納する。\n",
    "\n",
    "その後、学習済みモデルでテストデータの予測値を生成する。\n",
    "\n",
    "（正解判定の条件）\n",
    "- 欠損値が残っていないこと\n",
    "- `final_X_test` の行数が `X_test` と一致していること\n"
   ]
  },
  {
   "cell_type": "code",
   "execution_count": 55,
   "metadata": {},
   "outputs": [],
   "source": [
    "# --- テストデータの前処理 ---\n",
    "# 訓練・検証データと同じ方法（中央値補完）でテストデータも処理\n",
    "# 既に学習済みのfinal_imputerを使用することで、訓練データと同じ中央値で補完される\n",
    "final_X_test = pd.DataFrame(final_imputer.transform(X_test))\n",
    "\n",
    "# カラム名を再設定\n",
    "final_X_test.columns = X_test.columns\n",
    "\n",
    "# 学習済みモデルでテストデータの予測値を生成\n",
    "preds_test = model.predict(final_X_test)\n",
    "\n",
    "# --- 答え合わせ（Kaggleの自動採点用）---\n",
    "# step_4.b.check()"
   ]
  },
  {
   "cell_type": "markdown",
   "metadata": {},
   "source": [
    "## 予測結果の保存\n",
    "\n",
    "Kaggleコンペに提出できる形式でCSVファイルに保存する。\n",
    "\n",
    "```python\n",
    "# --- 予測結果をCSVファイルに保存 ---\n",
    "# Kaggleコンペの提出形式に合わせて、Id列とSalePrice列を持つDataFrameを作成\n",
    "output = pd.DataFrame({'Id': X_test.index,\n",
    "                      'SalePrice': preds_test})\n",
    "\n",
    "# CSVファイルとして保存（index=Falseでインデックスは保存しない）\n",
    "output.to_csv('submission.csv', index=False)\n",
    "```\n",
    "\n",
    "## ハイパーパラメータチューニングの例（参考）\n",
    "\n",
    "モデルの性能をさらに向上させるために、決定木の本数（n_estimators）を変えて実験することもできる。"
   ]
  },
  {
   "cell_type": "code",
   "execution_count": 56,
   "metadata": {},
   "outputs": [],
   "source": [
    "# 決定木の本数を変えながらMAEを確認する例（コメントアウト状態）\n",
    "#for n_estimators in range(180,220):\n",
    "#    model = RandomForestRegressor(n_estimators=n_estimators, random_state=0)\n",
    "#    model.fit(final_X_train, y_train)\n",
    "#\n",
    "#    # Get validation predictions and MAE\n",
    "#    preds_valid = model.predict(final_X_valid)\n",
    "#    print(\"MAE (Your approach):\", n_estimators, end=\" --> \")\n",
    "#    print(mean_absolute_error(y_valid, preds_valid))"
   ]
  },
  {
   "cell_type": "markdown",
   "metadata": {},
   "source": [
    "\n",
    "# ステップ5: 結果の提出\n",
    "\n",
    "Kaggleのリーダーボードに結果を提出する手順を説明する。\n",
    "\n",
    "1. コンペティションに参加する（まだ参加していない場合）\n",
    "2. 「COMMIT」ボタンをクリックしてコードを実行\n",
    "3. 「Open Version」ボタンをクリックして結果を確認\n",
    "4. 「Output」タブから「Submit to Competition」ボタンをクリックして提出\n",
    "5. 改善したい場合は「Edit」ボタンをクリックして再度編集\n",
    "\n",
    "# 次のステップ\n",
    "\n",
    "次の章では「カテゴリ変数」について学ぶ。カテゴリ変数は実データでよく登場するが、前処理せずにモデルへ入力するとエラーになるので注意が必要。"
   ]
  }
 ],
 "metadata": {
  "kernelspec": {
   "display_name": ".venv",
   "language": "python",
   "name": "python3"
  },
  "language_info": {
   "codemirror_mode": {
    "name": "ipython",
    "version": 3
   },
   "file_extension": ".py",
   "mimetype": "text/x-python",
   "name": "python",
   "nbconvert_exporter": "python",
   "pygments_lexer": "ipython3",
   "version": "3.12.10"
  }
 },
 "nbformat": 4,
 "nbformat_minor": 4
}
