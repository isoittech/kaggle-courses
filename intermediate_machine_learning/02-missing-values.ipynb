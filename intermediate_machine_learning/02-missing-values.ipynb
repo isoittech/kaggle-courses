{
 "cells": [
  {
   "cell_type": "markdown",
   "metadata": {},
   "source": [
    "**[中級機械学習 ホームページ](https://www.kaggle.com/learn/intermediate-machine-learning)**\n",
    "\n",
    "---\n"
   ]
  },
  {
   "cell_type": "markdown",
   "metadata": {},
   "source": [
    "ここからは**欠損値**の扱いについて学んだ知識を実際に試す番だ。\n",
    "\n",
    "きっと大きな違いを実感できるはず。\n",
    "\n",
    "# セットアップ\n",
    "\n",
    "設問は作業内容にフィードバックを返す。\n",
    "下のセルを実行してフィードバックシステムをセットアップしよう。"
   ]
  },
  {
   "cell_type": "code",
   "execution_count": 16,
   "metadata": {},
   "outputs": [],
   "source": [
    "# # コードチェック用のセットアップ\n",
    "# # 採点システムを有効化するためのコード\n",
    "# # Set up code checking\n",
    "# from learntools.core import binder\n",
    "# binder.bind(globals())\n",
    "# from learntools.ml_intermediate.ex2 import *\n",
    "# print(\"Setup Complete\")"
   ]
  },
  {
   "cell_type": "markdown",
   "metadata": {},
   "source": [
    "この演習では、[Kaggle Learnユーザー向け住宅価格コンペティション](https://www.kaggle.com/c/home-data-for-ml-course)のデータを使う。\n",
    "\n",
    "![Ames Housing データセット画像](https://i.imgur.com/lTJVG4e.png)\n",
    "\n",
    "次のコードセルはそのまま実行しよう。\n",
    "`X_train`, `X_valid`, `y_train`, `y_valid` に訓練・検証データが、`X_test` にテストデータが読み込まれる。"
   ]
  },
  {
   "cell_type": "code",
   "execution_count": 17,
   "metadata": {},
   "outputs": [
    {
     "name": "stdout",
     "output_type": "stream",
     "text": [
      "test.csv  test.csv.gz  train.csv  train.csv.gz\n"
     ]
    },
    {
     "name": "stdout",
     "output_type": "stream",
     "text": [
      "---------------\n",
      "test.csv  test.csv.gz  train.csv  train.csv.gz\n"
     ]
    }
   ],
   "source": [
    "# --- データファイルの展開と確認 ---\n",
    "# !ls ./input/02-missing-values\n",
    "#   データディレクトリ内のファイル一覧を表示する。\n",
    "!ls ./input/02-missing-values \n",
    "# !echo \"---------------\"\n",
    "!echo \"---------------\"\n",
    "# !gzip -d -c ./input/02-missing-values/train.csv.gz > ./input/02-missing-values/train.csv\n",
    "#   train.csv.gz（圧縮ファイル）を解凍してtrain.csvを作成する。\n",
    "!gzip -d -c ./input/02-missing-values/train.csv.gz > ./input/02-missing-values/train.csv\n",
    "# !gzip -d -c ./input/02-missing-values/test.csv.gz > ./input/02-missing-values/test.csv\n",
    "#   test.csv.gz（圧縮ファイル）を解凍してtest.csvを作成する。\n",
    "!gzip -d -c ./input/02-missing-values/test.csv.gz > ./input/02-missing-values/test.csv\n",
    "# !ls ./input/02-missing-values\n",
    "#   再度ファイル一覧を表示し、解凍後のファイルが存在するか確認する。\n",
    "!ls ./input/02-missing-values \n"
   ]
  },
  {
   "cell_type": "code",
   "execution_count": 18,
   "metadata": {},
   "outputs": [],
   "source": [
    "# --- pandas, scikit-learnのインポート ---\n",
    "import pandas as pd  # データ操作・前処理のためのライブラリ\n",
    "from sklearn.model_selection import train_test_split  # データ分割用\n",
    "\n",
    "# --- データの読み込み ---\n",
    "# train.csv（訓練データ）とtest.csv（テストデータ）をpandasで読み込む。\n",
    "# index_col='Id' でId列をインデックスとして使う。\n",
    "X_full = pd.read_csv('./input/02-missing-values/train.csv', index_col='Id')\n",
    "X_test_full = pd.read_csv('./input/02-missing-values/test.csv', index_col='Id')\n",
    "\n",
    "# --- 目的変数（SalePrice）と説明変数の分離 ---\n",
    "# SalePrice（住宅価格）が欠損している行は分析対象外とする。\n",
    "X_full.dropna(axis=0, subset=['SalePrice'], inplace=True)\n",
    "# 目的変数（ターゲット）yにSalePriceを格納。\n",
    "y = X_full.SalePrice\n",
    "# 説明変数（特徴量）からSalePrice列を除外。\n",
    "X_full.drop(['SalePrice'], axis=1, inplace=True)\n",
    "\n",
    "# --- 数値データのみ抽出 ---\n",
    "# 機械学習の入門では、まずobject型（文字列など）を除外し、数値型のみで学習するのが簡単。\n",
    "X = X_full.select_dtypes(exclude=['object'])\n",
    "X_test = X_test_full.select_dtypes(exclude=['object'])\n",
    "\n",
    "# --- 訓練データと検証データへの分割 ---\n",
    "# train_test_splitで、訓練用（X_train, y_train）と検証用（X_valid, y_valid）に分ける。\n",
    "# train_size=0.8で8割を訓練、2割を検証に使う。\n",
    "# random_state=0で分割の再現性を確保。\n",
    "X_train, X_valid, y_train, y_valid = train_test_split(X, y, train_size=0.8, test_size=0.2,\n",
    "                                                      random_state=0)"
   ]
  },
  {
   "cell_type": "markdown",
   "metadata": {},
   "source": [
    "次のコードセルで、訓練データ（X_train）の先頭5行を表示しよう。\n",
    "\n",
    "pandasの .head() メソッドは、データフレームの最初の5行を簡単に確認できる便利な関数。\n",
    "データの中身やカラム名、値の型を把握するのに役立つ。"
   ]
  },
  {
   "cell_type": "code",
   "execution_count": 19,
   "metadata": {},
   "outputs": [
    {
     "data": {
      "text/html": [
       "<div>\n",
       "<style scoped>\n",
       "    .dataframe tbody tr th:only-of-type {\n",
       "        vertical-align: middle;\n",
       "    }\n",
       "\n",
       "    .dataframe tbody tr th {\n",
       "        vertical-align: top;\n",
       "    }\n",
       "\n",
       "    .dataframe thead th {\n",
       "        text-align: right;\n",
       "    }\n",
       "</style>\n",
       "<table border=\"1\" class=\"dataframe\">\n",
       "  <thead>\n",
       "    <tr style=\"text-align: right;\">\n",
       "      <th></th>\n",
       "      <th>MSSubClass</th>\n",
       "      <th>LotFrontage</th>\n",
       "      <th>LotArea</th>\n",
       "      <th>OverallQual</th>\n",
       "      <th>OverallCond</th>\n",
       "      <th>YearBuilt</th>\n",
       "      <th>YearRemodAdd</th>\n",
       "      <th>MasVnrArea</th>\n",
       "      <th>BsmtFinSF1</th>\n",
       "      <th>BsmtFinSF2</th>\n",
       "      <th>...</th>\n",
       "      <th>GarageArea</th>\n",
       "      <th>WoodDeckSF</th>\n",
       "      <th>OpenPorchSF</th>\n",
       "      <th>EnclosedPorch</th>\n",
       "      <th>3SsnPorch</th>\n",
       "      <th>ScreenPorch</th>\n",
       "      <th>PoolArea</th>\n",
       "      <th>MiscVal</th>\n",
       "      <th>MoSold</th>\n",
       "      <th>YrSold</th>\n",
       "    </tr>\n",
       "    <tr>\n",
       "      <th>Id</th>\n",
       "      <th></th>\n",
       "      <th></th>\n",
       "      <th></th>\n",
       "      <th></th>\n",
       "      <th></th>\n",
       "      <th></th>\n",
       "      <th></th>\n",
       "      <th></th>\n",
       "      <th></th>\n",
       "      <th></th>\n",
       "      <th></th>\n",
       "      <th></th>\n",
       "      <th></th>\n",
       "      <th></th>\n",
       "      <th></th>\n",
       "      <th></th>\n",
       "      <th></th>\n",
       "      <th></th>\n",
       "      <th></th>\n",
       "      <th></th>\n",
       "      <th></th>\n",
       "    </tr>\n",
       "  </thead>\n",
       "  <tbody>\n",
       "    <tr>\n",
       "      <th>619</th>\n",
       "      <td>20</td>\n",
       "      <td>90.0</td>\n",
       "      <td>11694</td>\n",
       "      <td>9</td>\n",
       "      <td>5</td>\n",
       "      <td>2007</td>\n",
       "      <td>2007</td>\n",
       "      <td>452.0</td>\n",
       "      <td>48</td>\n",
       "      <td>0</td>\n",
       "      <td>...</td>\n",
       "      <td>774</td>\n",
       "      <td>0</td>\n",
       "      <td>108</td>\n",
       "      <td>0</td>\n",
       "      <td>0</td>\n",
       "      <td>260</td>\n",
       "      <td>0</td>\n",
       "      <td>0</td>\n",
       "      <td>7</td>\n",
       "      <td>2007</td>\n",
       "    </tr>\n",
       "    <tr>\n",
       "      <th>871</th>\n",
       "      <td>20</td>\n",
       "      <td>60.0</td>\n",
       "      <td>6600</td>\n",
       "      <td>5</td>\n",
       "      <td>5</td>\n",
       "      <td>1962</td>\n",
       "      <td>1962</td>\n",
       "      <td>0.0</td>\n",
       "      <td>0</td>\n",
       "      <td>0</td>\n",
       "      <td>...</td>\n",
       "      <td>308</td>\n",
       "      <td>0</td>\n",
       "      <td>0</td>\n",
       "      <td>0</td>\n",
       "      <td>0</td>\n",
       "      <td>0</td>\n",
       "      <td>0</td>\n",
       "      <td>0</td>\n",
       "      <td>8</td>\n",
       "      <td>2009</td>\n",
       "    </tr>\n",
       "    <tr>\n",
       "      <th>93</th>\n",
       "      <td>30</td>\n",
       "      <td>80.0</td>\n",
       "      <td>13360</td>\n",
       "      <td>5</td>\n",
       "      <td>7</td>\n",
       "      <td>1921</td>\n",
       "      <td>2006</td>\n",
       "      <td>0.0</td>\n",
       "      <td>713</td>\n",
       "      <td>0</td>\n",
       "      <td>...</td>\n",
       "      <td>432</td>\n",
       "      <td>0</td>\n",
       "      <td>0</td>\n",
       "      <td>44</td>\n",
       "      <td>0</td>\n",
       "      <td>0</td>\n",
       "      <td>0</td>\n",
       "      <td>0</td>\n",
       "      <td>8</td>\n",
       "      <td>2009</td>\n",
       "    </tr>\n",
       "    <tr>\n",
       "      <th>818</th>\n",
       "      <td>20</td>\n",
       "      <td>NaN</td>\n",
       "      <td>13265</td>\n",
       "      <td>8</td>\n",
       "      <td>5</td>\n",
       "      <td>2002</td>\n",
       "      <td>2002</td>\n",
       "      <td>148.0</td>\n",
       "      <td>1218</td>\n",
       "      <td>0</td>\n",
       "      <td>...</td>\n",
       "      <td>857</td>\n",
       "      <td>150</td>\n",
       "      <td>59</td>\n",
       "      <td>0</td>\n",
       "      <td>0</td>\n",
       "      <td>0</td>\n",
       "      <td>0</td>\n",
       "      <td>0</td>\n",
       "      <td>7</td>\n",
       "      <td>2008</td>\n",
       "    </tr>\n",
       "    <tr>\n",
       "      <th>303</th>\n",
       "      <td>20</td>\n",
       "      <td>118.0</td>\n",
       "      <td>13704</td>\n",
       "      <td>7</td>\n",
       "      <td>5</td>\n",
       "      <td>2001</td>\n",
       "      <td>2002</td>\n",
       "      <td>150.0</td>\n",
       "      <td>0</td>\n",
       "      <td>0</td>\n",
       "      <td>...</td>\n",
       "      <td>843</td>\n",
       "      <td>468</td>\n",
       "      <td>81</td>\n",
       "      <td>0</td>\n",
       "      <td>0</td>\n",
       "      <td>0</td>\n",
       "      <td>0</td>\n",
       "      <td>0</td>\n",
       "      <td>1</td>\n",
       "      <td>2006</td>\n",
       "    </tr>\n",
       "  </tbody>\n",
       "</table>\n",
       "<p>5 rows × 36 columns</p>\n",
       "</div>"
      ],
      "text/plain": [
       "     MSSubClass  LotFrontage  LotArea  OverallQual  OverallCond  YearBuilt  \\\n",
       "Id                                                                           \n",
       "619          20         90.0    11694            9            5       2007   \n",
       "871          20         60.0     6600            5            5       1962   \n",
       "93           30         80.0    13360            5            7       1921   \n",
       "818          20          NaN    13265            8            5       2002   \n",
       "303          20        118.0    13704            7            5       2001   \n",
       "\n",
       "     YearRemodAdd  MasVnrArea  BsmtFinSF1  BsmtFinSF2  ...  GarageArea  \\\n",
       "Id                                                     ...               \n",
       "619          2007       452.0          48           0  ...         774   \n",
       "871          1962         0.0           0           0  ...         308   \n",
       "93           2006         0.0         713           0  ...         432   \n",
       "818          2002       148.0        1218           0  ...         857   \n",
       "303          2002       150.0           0           0  ...         843   \n",
       "\n",
       "     WoodDeckSF  OpenPorchSF  EnclosedPorch  3SsnPorch  ScreenPorch  PoolArea  \\\n",
       "Id                                                                              \n",
       "619           0          108              0          0          260         0   \n",
       "871           0            0              0          0            0         0   \n",
       "93            0            0             44          0            0         0   \n",
       "818         150           59              0          0            0         0   \n",
       "303         468           81              0          0            0         0   \n",
       "\n",
       "     MiscVal  MoSold  YrSold  \n",
       "Id                            \n",
       "619        0       7    2007  \n",
       "871        0       8    2009  \n",
       "93         0       8    2009  \n",
       "818        0       7    2008  \n",
       "303        0       1    2006  \n",
       "\n",
       "[5 rows x 36 columns]"
      ]
     },
     "execution_count": 19,
     "metadata": {},
     "output_type": "execute_result"
    }
   ],
   "source": [
    "# --- データの先頭5行を表示 ---\n",
    "# .head() でデータフレームの最初の5行を表示できる。\n",
    "# データの中身やカラム名、値の型を把握するのに役立つ。\n",
    "X_train.head()"
   ]
  },
  {
   "cell_type": "markdown",
   "metadata": {},
   "source": [
    "先ほど表示したデータの中にも、すでにいくつか欠損値（NaN）が含まれているのが分かる。\n",
    "\n",
    "次のステップでは、データセット全体の欠損値の状況をより詳しく調べていく。\n",
    "\n",
    "# ステップ1: 欠損値の事前調査\n",
    "\n",
    "下のコードセルはそのまま実行しよう。"
   ]
  },
  {
   "cell_type": "code",
   "execution_count": 20,
   "metadata": {},
   "outputs": [
    {
     "name": "stdout",
     "output_type": "stream",
     "text": [
      "(1168, 36)\n",
      "LotFrontage    212\n",
      "MasVnrArea       6\n",
      "GarageYrBlt     58\n",
      "dtype: int64\n"
     ]
    }
   ],
   "source": [
    "# --- データの形状と欠損値のカウント ---\n",
    "# X_train.shape で（行数, 列数）を表示。\n",
    "# 欠損値（NaN）がどのカラムにどれだけ含まれているかを調べる。\n",
    "print(X_train.shape)\n",
    "\n",
    "# 各カラムごとの欠損値の個数を計算。\n",
    "missing_val_count_by_column = (X_train.isnull().sum())\n",
    "# 欠損値が1つ以上あるカラムだけを表示。\n",
    "print(missing_val_count_by_column[missing_val_count_by_column > 0])"
   ]
  },
  {
   "cell_type": "code",
   "execution_count": 21,
   "metadata": {},
   "outputs": [
    {
     "name": "stdout",
     "output_type": "stream",
     "text": [
      "     MSSubClass  LotFrontage  LotArea  OverallQual  OverallCond  YearBuilt  \\\n",
      "Id                                                                           \n",
      "619       False        False    False        False        False      False   \n",
      "871       False        False    False        False        False      False   \n",
      "93        False        False    False        False        False      False   \n",
      "818       False         True    False        False        False      False   \n",
      "303       False        False    False        False        False      False   \n",
      "\n",
      "     YearRemodAdd  MasVnrArea  BsmtFinSF1  BsmtFinSF2  ...  GarageArea  \\\n",
      "Id                                                     ...               \n",
      "619         False       False       False       False  ...       False   \n",
      "871         False       False       False       False  ...       False   \n",
      "93          False       False       False       False  ...       False   \n",
      "818         False       False       False       False  ...       False   \n",
      "303         False       False       False       False  ...       False   \n",
      "\n",
      "     WoodDeckSF  OpenPorchSF  EnclosedPorch  3SsnPorch  ScreenPorch  PoolArea  \\\n",
      "Id                                                                              \n",
      "619       False        False          False      False        False     False   \n",
      "871       False        False          False      False        False     False   \n",
      "93        False        False          False      False        False     False   \n",
      "818       False        False          False      False        False     False   \n",
      "303       False        False          False      False        False     False   \n",
      "\n",
      "     MiscVal  MoSold  YrSold  \n",
      "Id                            \n",
      "619    False   False   False  \n",
      "871    False   False   False  \n",
      "93     False   False   False  \n",
      "818    False   False   False  \n",
      "303    False   False   False  \n",
      "\n",
      "[5 rows x 36 columns]\n"
     ]
    }
   ],
   "source": [
    "# --- 欠損値の有無をTrue/Falseで判定 ---\n",
    "isnull_df = X_train.isnull()\n",
    "print(isnull_df.head())  # 各セルが欠損値ならTrue, そうでなければFalse"
   ]
  },
  {
   "cell_type": "markdown",
   "metadata": {},
   "source": [
    "上記のコードは、X_trainの各セルが欠損値（NaN）かどうかを判定し、True/Falseのデータフレームを返す。\n",
    "pandasのisnull()は、各要素がNaNならTrue、そうでなければFalseになる。"
   ]
  },
  {
   "cell_type": "code",
   "execution_count": 22,
   "metadata": {},
   "outputs": [
    {
     "name": "stdout",
     "output_type": "stream",
     "text": [
      "MSSubClass         0\n",
      "LotFrontage      212\n",
      "LotArea            0\n",
      "OverallQual        0\n",
      "OverallCond        0\n",
      "YearBuilt          0\n",
      "YearRemodAdd       0\n",
      "MasVnrArea         6\n",
      "BsmtFinSF1         0\n",
      "BsmtFinSF2         0\n",
      "BsmtUnfSF          0\n",
      "TotalBsmtSF        0\n",
      "1stFlrSF           0\n",
      "2ndFlrSF           0\n",
      "LowQualFinSF       0\n",
      "GrLivArea          0\n",
      "BsmtFullBath       0\n",
      "BsmtHalfBath       0\n",
      "FullBath           0\n",
      "HalfBath           0\n",
      "BedroomAbvGr       0\n",
      "KitchenAbvGr       0\n",
      "TotRmsAbvGrd       0\n",
      "Fireplaces         0\n",
      "GarageYrBlt       58\n",
      "GarageCars         0\n",
      "GarageArea         0\n",
      "WoodDeckSF         0\n",
      "OpenPorchSF        0\n",
      "EnclosedPorch      0\n",
      "3SsnPorch          0\n",
      "ScreenPorch        0\n",
      "PoolArea           0\n",
      "MiscVal            0\n",
      "MoSold             0\n",
      "YrSold             0\n",
      "dtype: int64\n"
     ]
    }
   ],
   "source": [
    "# --- 各カラムごとの欠損値の個数をカウント ---\n",
    "missing_val_count_by_column = isnull_df.sum()\n",
    "print(missing_val_count_by_column)  # 各カラムごとの欠損値の個数"
   ]
  },
  {
   "cell_type": "markdown",
   "metadata": {},
   "source": [
    "isnull_df.sum() は、各カラムごとにTrue（=1）の数を合計する。\n",
    "つまり、各カラムに何個の欠損値があるかをSeriesで返す。"
   ]
  },
  {
   "cell_type": "code",
   "execution_count": 23,
   "metadata": {},
   "outputs": [
    {
     "name": "stdout",
     "output_type": "stream",
     "text": [
      "LotFrontage    212\n",
      "MasVnrArea       6\n",
      "GarageYrBlt     58\n",
      "dtype: int64\n"
     ]
    }
   ],
   "source": [
    "# --- 欠損値が1つ以上あるカラムだけを抽出 ---\n",
    "print(missing_val_count_by_column[missing_val_count_by_column > 0])"
   ]
  },
  {
   "cell_type": "markdown",
   "metadata": {},
   "source": [
    "missing_val_count_by_column[missing_val_count_by_column > 0] で、\n",
    "欠損値が1つ以上あるカラムだけを抽出して表示できる。"
   ]
  },
  {
   "cell_type": "markdown",
   "metadata": {},
   "source": [
    "### パートA\n",
    "\n",
    "上の出力結果を使って、以下の質問に答えよう。\n",
    "\n",
    "- 訓練データの行数はいくつか？\n",
    "- 欠損値を含むカラムはいくつか？\n",
    "- 全体で欠損しているデータはいくつか？\n",
    "\n",
    "（ヒント：print(X_train.shape)や、欠損値カウントの出力をよく見よう）"
   ]
  },
  {
   "cell_type": "code",
   "execution_count": 24,
   "metadata": {},
   "outputs": [],
   "source": [
    "# # --- 訓練データの行数 ---\n",
    "# # X_train.shape[0] で行数（サンプル数）が分かる。\n",
    "# num_rows = 1168  # 行数\n",
    "\n",
    "# # --- 欠損値を含むカラム数 ---\n",
    "# # 欠損値が1つ以上あるカラムの数。\n",
    "# num_cols_with_missing = 3  # 欠損カラム数\n",
    "\n",
    "# # --- 全体の欠損値の個数 ---\n",
    "# # 欠損値カウントの合計。\n",
    "# tot_missing = 276  # 欠損値の総数\n",
    "\n",
    "# # --- 答え合わせ（Kaggleの自動採点用）---\n",
    "# step_1.a.check()"
   ]
  },
  {
   "cell_type": "code",
   "execution_count": 6,
   "metadata": {},
   "outputs": [],
   "source": [
    "# --- ヒントや解答を表示したい場合は、下のコメントアウトを外す ---\n",
    "# step_1.a.hint()    # ヒントを表示\n",
    "# step_1.a.solution() # 解答例を表示"
   ]
  },
  {
   "cell_type": "markdown",
   "metadata": {},
   "source": [
    "### パートB\n",
    "上記の結果を踏まえて、欠損値への対処として最も良い方法は何だと思う？\n",
    "\n",
    "+ **自分の答え:** 欠損しているデータが少ないので、削除よりも補完（imputation）が良い選択肢。"
   ]
  },
  {
   "cell_type": "code",
   "execution_count": 7,
   "metadata": {},
   "outputs": [],
   "source": [
    "# step_1.b.hint()"
   ]
  },
  {
   "cell_type": "code",
   "execution_count": null,
   "metadata": {},
   "outputs": [
    {
     "data": {
      "application/javascript": "parent.postMessage({\"jupyterEvent\": \"custom.exercise_interaction\", \"data\": {\"interactionType\": 3, \"questionType\": 4, \"questionId\": \"1.2_InvestigateThought\", \"learnToolsVersion\": \"0.3.4\", \"valueTowardsCompletion\": 0.0, \"failureMessage\": \"\", \"exceptionClass\": \"\", \"trace\": \"\", \"outcomeType\": 4}}, \"*\")",
      "text/plain": [
       "<IPython.core.display.Javascript object>"
      ]
     },
     "metadata": {},
     "output_type": "display_data"
    },
    {
     "data": {
      "text/markdown": [
       "<span style=\"color:#33cc99\">Solution:</span> Since there are relatively few missing entries in the data (the column with the greatest percentage of missing values is missing less than 20% of its entries), we can expect that dropping columns is unlikely to yield good results.  This is because we'd be throwing away a lot of valuable data, and so imputation will likely perform better."
      ],
      "text/plain": [
       "Solution: Since there are relatively few missing entries in the data (the column with the greatest percentage of missing values is missing less than 20% of its entries), we can expect that dropping columns is unlikely to yield good results.  This is because we'd be throwing away a lot of valuable data, and so imputation will likely perform better."
      ]
     },
     "metadata": {},
     "output_type": "display_data"
    }
   ],
   "source": [
    "# step_1.b.solution()"
   ]
  },
  {
   "cell_type": "markdown",
   "metadata": {},
   "source": [
    "欠損値への対処法を比較するために、チュートリアルで使った `score_dataset()` 関数をここでも利用する。\nこの関数はランダムフォレストモデルでの[平均絶対誤差（MAE）](https://en.wikipedia.org/wiki/Mean_absolute_error)を計算する。"
   ]
  },
  {
   "cell_type": "code",
   "execution_count": 9,
   "metadata": {},
   "outputs": [],
   "source": [
    "# --- モデル評価用関数の定義 ---\n",
    "from sklearn.ensemble import RandomForestRegressor  # ランダムフォレスト回帰モデル\n",
    "from sklearn.metrics import mean_absolute_error     # 平均絶対誤差（MAE）\n",
    "\n",
    "# 様々な前処理方法の性能を比較するための関数。\n",
    "# ランダムフォレストで学習し、検証データでのMAE（平均絶対誤差）を返す。\n",
    "def score_dataset(X_train, X_valid, y_train, y_valid):\n",
    "    model = RandomForestRegressor(n_estimators=100, random_state=0)  # 決定木100本、乱数固定\n",
    "    model.fit(X_train, y_train)  # 学習\n",
    "    preds = model.predict(X_valid)  # 予測\n",
    "    return mean_absolute_error(y_valid, preds)  # MAEを返す"
   ]
  },
  {
   "cell_type": "markdown",
   "metadata": {},
   "source": [
    "# Step 2: Drop columns with missing values\n",
    "\n",
    "このステップでは、`X_train` と `X_valid` のデータから欠損値を含むカラムを除去し、\n前処理済みのデータフレームを `reduced_X_train` と `reduced_X_valid` に格納する。"
   ]
  },
  {
   "cell_type": "code",
   "execution_count": 10,
   "metadata": {},
   "outputs": [
    {
     "data": {
      "application/javascript": "parent.postMessage({\"jupyterEvent\": \"custom.exercise_interaction\", \"data\": {\"outcomeType\": 1, \"valueTowardsCompletion\": 1.0, \"interactionType\": 1, \"questionType\": 2, \"questionId\": \"2_DropMissing\", \"learnToolsVersion\": \"0.3.4\", \"failureMessage\": \"\", \"exceptionClass\": \"\", \"trace\": \"\"}}, \"*\")",
      "text/plain": [
       "<IPython.core.display.Javascript object>"
      ]
     },
     "metadata": {},
     "output_type": "display_data"
    },
    {
     "data": {
      "text/markdown": [
       "<span style=\"color:#33cc33\">Correct</span>"
      ],
      "text/plain": [
       "Correct"
      ]
     },
     "metadata": {},
     "output_type": "display_data"
    }
   ],
   "source": [
    "# --- 欠損値を含むカラムの除去 ---\n",
    "# 欠損値（NaN）が1つでも含まれるカラム名をリストアップ。\n",
    "cols_with_missing = [col for col in X_train.columns\n",
    "                     if X_train[col].isnull().any()] \n",
    "\n",
    "# 上記のカラムを訓練・検証データから除去。\n",
    "reduced_X_train = X_train.drop(cols_with_missing, axis=1)\n",
    "reduced_X_valid = X_valid.drop(cols_with_missing, axis=1)\n",
    "\n",
    "# --- 答え合わせ（Kaggleの自動採点用）---\n",
    "step_2.check()"
   ]
  },
  {
   "cell_type": "code",
   "execution_count": 11,
   "metadata": {},
   "outputs": [],
   "source": [
    "# --- ヒントや解答を表示したい場合は、下のコメントアウトを外す ---\n",
    "# step_2.hint()    # ヒントを表示\n",
    "# step_2.solution() # 解答例を表示"
   ]
  },
  {
   "cell_type": "markdown",
   "metadata": {},
   "source": [
    "上記コードでは、まず `X_train` の各カラムについて `isnull().any()` で欠損値が1つでもあるかを判定し、\n該当するカラム名をリスト `cols_with_missing` に格納している。\n\nその後、`drop` メソッドでこれらのカラムを訓練・検証データから除去している。\n\n最後に、除去後のカラム数を `shape[1]` で確認している。\n\n【出力例】\n```\n欠損値を含むカラム: ['LotFrontage', 'MasVnrArea', 'GarageYrBlt']\n除去後のカラム数: 33\n```\n\n---\n\n次のコードセルを実行して、この方法でのMAE（平均絶対誤差）を確認しよう。"
   ]
  },
  {
   "cell_type": "code",
   "execution_count": 12,
   "metadata": {},
   "outputs": [
    {
     "name": "stdout",
     "output_type": "stream",
     "text": [
      "MAE (Drop columns with missing values):\n",
      "17837.82570776256\n"
     ]
    }
   ],
   "source": [
    "# --- 欠損値カラム除去後のモデル評価（MAE算出）---\n",
    "print(\"MAE (Drop columns with missing values):\")\n",
    "print(score_dataset(reduced_X_train, reduced_X_valid, y_train, y_valid))  # MAEを表示"
   ]
  },
  {
   "cell_type": "markdown",
   "metadata": {},
   "source": [
    "# ステップ3: 補完（Imputation）\n",
    "\n",
    "### パートA\n",
    "\n",
    "次のコードセルでは、各カラムの平均値で欠損値を補完（impute）する。\n",
    "補完後のデータフレームは `imputed_X_train` と `imputed_X_valid` に格納する。\n",
    "カラム名が元の `X_train`, `X_valid` と一致していることを確認しよう。\n",
    "\n",
    "（補完＝欠損値を何らかの値で埋めること。ここでは平均値で埋める）"
   ]
  },
  {
   "cell_type": "code",
   "execution_count": 13,
   "metadata": {},
   "outputs": [
    {
     "data": {
      "application/javascript": "parent.postMessage({\"jupyterEvent\": \"custom.exercise_interaction\", \"data\": {\"outcomeType\": 1, \"valueTowardsCompletion\": 1.0, \"interactionType\": 1, \"questionType\": 2, \"questionId\": \"3.1_ImputeCode\", \"learnToolsVersion\": \"0.3.4\", \"failureMessage\": \"\", \"exceptionClass\": \"\", \"trace\": \"\"}}, \"*\")",
      "text/plain": [
       "<IPython.core.display.Javascript object>"
      ]
     },
     "metadata": {},
     "output_type": "display_data"
    },
    {
     "data": {
      "text/markdown": [
       "<span style=\"color:#33cc33\">Correct</span>"
      ],
      "text/plain": [
       "Correct"
      ]
     },
     "metadata": {},
     "output_type": "display_data"
    }
   ],
   "source": [
    "# --- 平均値での補完（Imputation）---\n",
    "from sklearn.impute import SimpleImputer  # 欠損値補完用\n",
    "\n",
    "# SimpleImputerを使って、各カラムの平均値で欠損値を埋める。\n",
    "my_imputer = SimpleImputer()  # デフォルトで平均値補完\n",
    "imputed_X_train = pd.DataFrame(my_imputer.fit_transform(X_train))  # 学習データを補完\n",
    "imputed_X_valid = pd.DataFrame(my_imputer.transform(X_valid))      # 検証データも同じ方法で補完\n",
    "\n",
    "# SimpleImputerで補完するとカラム名が消えるので、元のカラム名を再設定。\n",
    "imputed_X_train.columns = X_train.columns\n",
    "imputed_X_valid.columns = X_valid.columns\n",
    "\n",
    "# --- 答え合わせ（Kaggleの自動採点用）---\n",
    "step_3.a.check()"
   ]
  },
  {
   "cell_type": "code",
   "execution_count": 14,
   "metadata": {},
   "outputs": [],
   "source": [
    "# --- ヒントや解答を表示したい場合は、下のコメントアウトを外す ---\n",
    "# step_3.a.hint()    # ヒントを表示\n",
    "# step_3.a.solution() # 解答例を表示"
   ]
  },
  {
   "cell_type": "markdown",
   "metadata": {},
   "source": [
    "次のコードセルを実行して、この方法でのMAE（平均絶対誤差）を確認しよう。"
   ]
  },
  {
   "cell_type": "code",
   "execution_count": 15,
   "metadata": {},
   "outputs": [
    {
     "name": "stdout",
     "output_type": "stream",
     "text": [
      "MAE (Imputation):\n",
      "18062.894611872147\n"
     ]
    }
   ],
   "source": [
    "# --- 平均値補完後のモデル評価（MAE算出）---\n",
    "print(\"MAE (Imputation):\")\n",
    "print(score_dataset(imputed_X_train, imputed_X_valid, y_train, y_valid))  # MAEを表示"
   ]
  },
  {
   "cell_type": "markdown",
   "metadata": {},
   "source": [
    "### パートB\n",
    "\n",
    "各手法で得られたMAE（平均絶対誤差）を比較しよう。\n",
    "結果について意外に思うことはあったか？\n",
    "なぜ一方の手法の方が良い結果になったと思う？\n",
    "\n",
    "（ヒント：欠損値の扱い方がモデルの性能にどう影響するかを考えてみよう）"
   ]
  },
  {
   "cell_type": "code",
   "execution_count": 16,
   "metadata": {},
   "outputs": [],
   "source": [
    "# --- ヒントや解答を表示したい場合は、下のコメントアウトを外す ---\n",
    "# step_3.b.hint()    # ヒントを表示\n",
    "# step_3.b.solution() # 解答例を表示"
   ]
  },
  {
   "cell_type": "code",
   "execution_count": 17,
   "metadata": {},
   "outputs": [
    {
     "data": {
      "application/javascript": "parent.postMessage({\"jupyterEvent\": \"custom.exercise_interaction\", \"data\": {\"interactionType\": 3, \"questionType\": 4, \"questionId\": \"3.2_ImputeThought\", \"learnToolsVersion\": \"0.3.4\", \"valueTowardsCompletion\": 0.0, \"failureMessage\": \"\", \"exceptionClass\": \"\", \"trace\": \"\", \"outcomeType\": 4}}, \"*\")",
      "text/plain": [
       "<IPython.core.display.Javascript object>"
      ]
     },
     "metadata": {},
     "output_type": "display_data"
    },
    {
     "data": {
      "text/markdown": [
       "<span style=\"color:#33cc99\">解説:</span> このデータセットでは欠損値が非常に少ないため、カラムごと削除よりも補完（imputation）の方が良い結果になると予想できる。\n",
       "しかし実際には、カラムごと削除の方がわずかに良い結果となった！\n",
       "これはデータのノイズの影響もあるが、補完方法がこのデータセットに最適でない可能性もある。\n",
       "たとえば、平均値で埋めるよりも0や最頻値、中央値など他の値で埋めた方が良い場合もある。\n",
       "特に `GarageYrBlt`（ガレージ建築年）のようなカラムでは、欠損値は「ガレージが無い」ことを意味するかもしれない。\n",
       "この場合、中央値や最小値で埋める方が自然かもしれないし、0で埋めるのは不適切な場合もある。\n",
       "どの方法が最適かはデータの意味や背景によるので、色々な補完方法を試してみるのが大切。"
      ],
      "text/plain": [
       "Solution: Given that thre are so few missing values in the dataset, we'd expect imputation to perform better than dropping columns entirely.  However, we see that dropping columns performs slightly better!  While this can probably partially be attributed to noise in the dataset, another potential explanation is that the imputation method is not a great match to this dataset.  That is, maybe instead of filling in the mean value, it makes more sense to set every missing value to a value of 0, to fill in the most frequently encountered value, or to use some other method.  For instance, consider the `GarageYrBlt` column (which indicates the year that the garage was built).  It's likely that in some cases, a missing value could indicate a house that does not have a garage.  Does it make more sense to fill in the median value along each column in this case?  Or could we get better results by filling in the minimum value along each column?  It's not quite clear what's best in this case, but perhaps we can rule out some options immediately - for instance, setting missing values in this column to 0 is likely to yield horrible results!"
      ]
     },
     "metadata": {},
     "output_type": "display_data"
    }
   ],
   "source": [
    "step_3.b.solution()"
   ]
  },
  {
   "cell_type": "markdown",
   "metadata": {},
   "source": [
    "# ステップ4: テストデータで予測を生成\n",
    "\n",
    "この最終ステップでは、好きな方法で欠損値を処理してみよう。\n",
    "訓練・検証データの前処理が終わったら、ランダムフォレストで学習・評価し、\n",
    "さらにテストデータも同じ方法で前処理して予測値を生成する。\n",
    "（この予測値はKaggleコンペに提出できる形式）\n",
    "\n",
    "### パートA\n",
    "\n",
    "次のコードセルで訓練・検証データを前処理し、\n",
    "`final_X_train` と `final_X_valid` に格納しよう。\n",
    "（どんな方法でもOK。下記の条件を満たせば正解になる）\n",
    "- 前処理後のデータフレームのカラム数が一致していること\n",
    "- 欠損値が残っていないこと\n",
    "- `final_X_train`と`y_train`の行数が一致していること\n",
    "- `final_X_valid`と`y_valid`の行数が一致していること"
   ]
  },
  {
   "cell_type": "code",
   "execution_count": 18,
   "metadata": {},
   "outputs": [
    {
     "data": {
      "application/javascript": "parent.postMessage({\"jupyterEvent\": \"custom.exercise_interaction\", \"data\": {\"outcomeType\": 1, \"valueTowardsCompletion\": 1.0, \"interactionType\": 1, \"questionType\": 2, \"questionId\": \"4.1_PredsCodeA\", \"learnToolsVersion\": \"0.3.4\", \"failureMessage\": \"\", \"exceptionClass\": \"\", \"trace\": \"\"}}, \"*\")",
      "text/plain": [
       "<IPython.core.display.Javascript object>"
      ]
     },
     "metadata": {},
     "output_type": "display_data"
    },
    {
     "data": {
      "text/markdown": [
       "<span style=\"color:#33cc33\">Correct</span>"
      ],
      "text/plain": [
       "Correct"
      ]
     },
     "metadata": {},
     "output_type": "display_data"
    }
   ],
   "source": [
    "# --- 訓練・検証データの最終前処理 ---\n",
    "# ここではSimpleImputerで中央値（median）補完を採用。\n",
    "# strategy='median' で各カラムの中央値で欠損値を埋める。\n",
    "final_imputer = SimpleImputer(strategy='median')\n",
    "final_X_train = pd.DataFrame(final_imputer.fit_transform(X_train))  # 訓練データを補完\n",
    "final_X_valid = pd.DataFrame(final_imputer.transform(X_valid))      # 検証データも同じ方法で補完\n",
    "\n",
    "# SimpleImputerで補完するとカラム名が消えるので、元のカラム名を再設定。\n",
    "final_X_train.columns = X_train.columns\n",
    "final_X_valid.columns = X_valid.columns\n",
    "\n",
    "# --- 答え合わせ（Kaggleの自動採点用）---\n",
    "step_4.a.check()"
   ]
  },
  {
   "cell_type": "code",
   "execution_count": 19,
   "metadata": {},
   "outputs": [],
   "source": [
    "# Lines below will give you a hint or solution code\n",
    "# step_4.a.hint()\n",
    "# step_4.a.solution()"
   ]
  },
  {
   "cell_type": "markdown",
   "metadata": {},
   "source": [
    "次のコードセルを実行すると、ランダムフォレストモデルの学習と評価を行う。\n（この後テストデータの予測に使うため、ここでは `score_dataset()` 関数は使わない点に注意）"
   ]
  },
  {
   "cell_type": "code",
   "execution_count": 20,
   "metadata": {},
   "outputs": [
    {
     "name": "stdout",
     "output_type": "stream",
     "text": [
      "MAE (Your appraoch):\n",
      "17459.893781256797\n"
     ]
    }
   ],
   "source": [
    "# --- ランダムフォレストで学習・評価 ---\n",
    "# n_estimators=210 で決定木の本数を増やし、より安定した予測を目指す。\n",
    "model = RandomForestRegressor(n_estimators=210, random_state=0)\n",
    "model.fit(final_X_train, y_train)  # 学習\n",
    "\n",
    "# 検証データで予測し、MAE（平均絶対誤差）を算出。\n",
    "preds_valid = model.predict(final_X_valid)\n",
    "print(\"MAE (Your appraoch):\")\n",
    "print(mean_absolute_error(y_valid, preds_valid))  # MAEを表示"
   ]
  },
  {
   "cell_type": "markdown",
   "metadata": {},
   "source": [
    "### パートB\n",
    "\n",
    "次のコードセルでテストデータ（X_test）も前処理しよう。\n",
    "訓練・検証データと同じ方法（ここでは中央値補完）で処理し、\n",
    "前処理済みのテストデータを `final_X_test` に格納する。\n",
    "\n",
    "その後、学習済みモデルでテストデータの予測値を `preds_test` に格納する。\n",
    "\n",
    "（正解判定の条件）\n",
    "- 欠損値が残っていないこと\n",
    "- `final_X_test` の行数が `X_test` と一致していること"
   ]
  },
  {
   "cell_type": "code",
   "execution_count": 21,
   "metadata": {},
   "outputs": [],
   "source": [
    "# --- テストデータの前処理と予測生成 ---\n",
    "# 訓練・検証データと同じ方法（中央値補完）でテストデータも処理。\n",
    "final_X_test = pd.DataFrame(final_imputer.transform(X_test))\n",
    "final_X_test.columns = X_test.columns  # カラム名を再設定\n",
    "\n",
    "# 学習済みモデルでテストデータの予測値を生成。\n",
    "preds_test = model.predict(final_X_test)\n",
    "\n",
    "# preds_test にはテストデータの住宅価格予測値が格納される。\n",
    "# この値をKaggleコンペに提出することでスコアを得られる。\n",
    "\n",
    "# --- 答え合わせ（Kaggleの自動採点用）---\n",
    "step_4.b.check()"
   ]
  },
  {
   "cell_type": "code",
   "execution_count": 22,
   "metadata": {},
   "outputs": [],
   "source": [
    "# Lines below will give you a hint or solution code\n",
    "# step_4.b.hint()\n",
    "# step_4.b.solution()"
   ]
  },
  {
   "cell_type": "markdown",
   "metadata": {},
   "source": [
    "次のコードセルを実行すると、Kaggleコンペにそのまま提出できる形式で予測結果をCSVファイルに保存できる。\n\n---\n【補足解説】\nこのセルは、テストデータに対する予測結果を 'submission.csv' というファイルに書き出す処理。\nKaggleの提出画面でこのファイルをアップロードすれば、スコアを確認できる。"
   ]
  },
  {
   "cell_type": "code",
   "execution_count": 23,
   "metadata": {},
   "outputs": [],
   "source": [
    "# Save test predictions to file\n",
    "output = pd.DataFrame({'Id': X_test.index,\n",
    "                       'SalePrice': preds_test})\n",
    "output.to_csv('submission.csv', index=False)"
   ]
  },
  {
   "cell_type": "code",
   "execution_count": 24,
   "metadata": {},
   "outputs": [],
   "source": [
    "#for n_estimators in range(180,220):\n",
    "#    model = RandomForestRegressor(n_estimators=n_estimators, random_state=0)\n",
    "#    model.fit(final_X_train, y_train)\n",
    "\n",
    "    # Get validation predictions and MAE\n",
    "#    preds_valid = model.predict(final_X_valid)\n",
    "#    print(\"MAE (Your appraoch):\", n_estimators, end=\" --> \")\n",
    "#    print(mean_absolute_error(y_valid, preds_valid))"
   ]
  },
  {
   "cell_type": "markdown",
   "metadata": {},
   "source": [
    "# Step 5: Submit your results\n",
    "\n",
    "ステップ4まで完了したら、いよいよKaggleのリーダーボードに結果を提出できる。\n（前回の演習でも提出方法を学んだが、忘れた場合は以下の手順を参照）\n",
    "\n",
    "First, you'll need to join the competition if you haven't already.  So open a new window by clicking on [this link](https://www.kaggle.com/c/home-data-for-ml-course).  Then click on the **Join Competition** button.\n",
    "\n",
    "![join competition image](https://i.imgur.com/wLmFtH3.png)\n",
    "\n",
    "次に、以下の手順に従う。\n",
    "- Begin by clicking on the blue **COMMIT** button in the top right corner.  This will generate a pop-up window.  \n",
    "- After your code has finished running, click on the blue **Open Version** button in the top right of the pop-up window.  This brings you into view mode of the same page. You will need to scroll down to get back to these instructions.\n",
    "- Click on the **Output** tab on the left of the screen.  Then, click on the **Submit to Competition** button to submit your results to the leaderboard.\n",
    "- If you want to keep working to improve your performance, select the blue **Edit** button in the top right of the screen. Then you can change your model and repeat the process.\n",
    "\n",
    "# Keep going\n",
    "\n",
    "次の章では、**[カテゴリ変数](https://www.kaggle.com/alexisbcook/categorical-variables)** について学び、\nそれらを機械学習モデルにどう組み込むかを解説する。\nカテゴリ変数は実データで非常によく登場するが、前処理せずにモデルへ入力しようとするとエラーになるので注意。"
   ]
  },
  {
   "cell_type": "markdown",
   "metadata": {},
   "source": [
    "---\n",
    "**[Intermediate Machine Learning Home Page](https://www.kaggle.com/learn/intermediate-machine-learning)**\n",
    "\n",
    "\n",
    "\n",
    "\n",
    "\n",
    "*Have questions or comments? Visit the [Learn Discussion forum](https://www.kaggle.com/learn-forum) to chat with other Learners.*"
   ]
  }
 ],
 "metadata": {
  "kernelspec": {
   "display_name": ".venv",
   "language": "python",
   "name": "python3"
  },
  "language_info": {
   "codemirror_mode": {
    "name": "ipython",
    "version": 3
   },
   "file_extension": ".py",
   "mimetype": "text/x-python",
   "name": "python",
   "nbconvert_exporter": "python",
   "pygments_lexer": "ipython3",
   "version": "3.12.10"
  }
 },
 "nbformat": 4,
 "nbformat_minor": 4
}
